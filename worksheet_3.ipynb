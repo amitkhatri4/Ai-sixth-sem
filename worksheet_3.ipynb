{
  "nbformat": 4,
  "nbformat_minor": 0,
  "metadata": {
    "colab": {
      "provenance": []
    },
    "kernelspec": {
      "name": "python3",
      "display_name": "Python 3"
    },
    "language_info": {
      "name": "python"
    }
  },
  "cells": [
    {
      "cell_type": "code",
      "execution_count": 31,
      "metadata": {
        "colab": {
          "base_uri": "https://localhost:8080/"
        },
        "id": "YYsDqDowtmfe",
        "outputId": "0af4a3d0-f02c-46d4-a7df-817d427679b8"
      },
      "outputs": [
        {
          "output_type": "stream",
          "name": "stdout",
          "text": [
            "Drive already mounted at /content/drive; to attempt to forcibly remount, call drive.mount(\"/content/drive\", force_remount=True).\n"
          ]
        }
      ],
      "source": [
        "from google.colab import drive\n",
        "drive.mount('/content/drive')\n"
      ]
    },
    {
      "cell_type": "code",
      "source": [
        "import numpy as np\n",
        "import pandas as pd\n",
        "from sklearn.model_selection import train_test_split\n",
        "from sklearn.preprocessing import LabelEncoder, OneHotEncoder\n",
        "import matplotlib.pyplot as plt"
      ],
      "metadata": {
        "id": "xjAOh0M1ue_N"
      },
      "execution_count": 5,
      "outputs": []
    },
    {
      "cell_type": "code",
      "source": [
        "df = pd.read_csv(\"/content/drive/MyDrive/6CS012 AI/mnist_0_and_1.csv\", encoding=\"utf-8\")\n",
        "\n",
        "\n",
        "\n",
        "# Step 2: Dataset Information\n",
        "print(\"Dataset Preview:\")\n",
        "print(df.head())  # Show first 5 rows\n",
        "print(\"\\nDataset Information:\")\n",
        "print(df.info())  # Summary of dataset"
      ],
      "metadata": {
        "colab": {
          "base_uri": "https://localhost:8080/"
        },
        "id": "E87e2VS-uk0x",
        "outputId": "4b2ccd59-6b62-49a8-9e67-87740c8ae4b4"
      },
      "execution_count": 6,
      "outputs": [
        {
          "output_type": "stream",
          "name": "stdout",
          "text": [
            "Dataset Preview:\n",
            "   label  pixel_0  pixel_1  pixel_2  pixel_3  pixel_4  pixel_5  pixel_6  \\\n",
            "0      0        0        0        0        0        0        0        0   \n",
            "1      1        0        0        0        0        0        0        0   \n",
            "2      1        0        0        0        0        0        0        0   \n",
            "3      1        0        0        0        0        0        0        0   \n",
            "4      1        0        0        0        0        0        0        0   \n",
            "\n",
            "   pixel_7  pixel_8  ...  pixel_774  pixel_775  pixel_776  pixel_777  \\\n",
            "0        0        0  ...          0          0          0          0   \n",
            "1        0        0  ...          0          0          0          0   \n",
            "2        0        0  ...          0          0          0          0   \n",
            "3        0        0  ...          0          0          0          0   \n",
            "4        0        0  ...          0          0          0          0   \n",
            "\n",
            "   pixel_778  pixel_779  pixel_780  pixel_781  pixel_782  pixel_783  \n",
            "0          0          0          0          0          0          0  \n",
            "1          0          0          0          0          0          0  \n",
            "2          0          0          0          0          0          0  \n",
            "3          0          0          0          0          0          0  \n",
            "4          0          0          0          0          0          0  \n",
            "\n",
            "[5 rows x 785 columns]\n",
            "\n",
            "Dataset Information:\n",
            "<class 'pandas.core.frame.DataFrame'>\n",
            "RangeIndex: 12665 entries, 0 to 12664\n",
            "Columns: 785 entries, label to pixel_783\n",
            "dtypes: int64(785)\n",
            "memory usage: 75.9 MB\n",
            "None\n"
          ]
        }
      ]
    },
    {
      "cell_type": "markdown",
      "source": [
        "Task-1: ImplementationofMCPNeurons"
      ],
      "metadata": {
        "id": "FCTAvlufx4h_"
      }
    },
    {
      "cell_type": "markdown",
      "source": [
        "MCP Neuron for AND Operation"
      ],
      "metadata": {
        "id": "wq_gpIN0yAp0"
      }
    },
    {
      "cell_type": "code",
      "source": [
        "def MCP_Neurons_AND(X1, X2, T):\n",
        "    \"\"\"\n",
        "    This function implements basic AND operations with an MCP Neuron for two inputs.\n",
        "\n",
        "    Arguments:\n",
        "    X1 (list): A list of binary values (0 or 1).\n",
        "    X2 (list): A list of binary values (0 or 1).\n",
        "    T (int): Threshold value.\n",
        "\n",
        "    Output:\n",
        "    state_neuron (list): The state of the neuron (1 or 0) for the given inputs.\n",
        "    \"\"\"\n",
        "    assert len(X1) == len(X2), \"Input lists must have the same length.\"\n",
        "\n",
        "    state_neuron = []  # List to store output states\n",
        "\n",
        "    for x1, x2 in zip(X1, X2):\n",
        "        if (x1 + x2) >= T:\n",
        "            state_neuron.append(1)\n",
        "        else:\n",
        "            state_neuron.append(0)\n",
        "\n",
        "    return state_neuron\n",
        "\n",
        "# Example usage for MCP_Neurons_AND function\n",
        "X1 = [0, 0, 1, 1]\n",
        "X2 = [0, 1, 0, 1]\n",
        "T = 2  # Threshold value for AND gate\n",
        "\n",
        "# Call the MCP_Neurons_AND function\n",
        "result = MCP_Neurons_AND(X1, X2, T)\n",
        "\n",
        "# Print the result\n",
        "print(f\"Output of AND gate for inputs {X1} and {X2} with threshold {T}: {result}\")\n"
      ],
      "metadata": {
        "colab": {
          "base_uri": "https://localhost:8080/"
        },
        "id": "ard3KcmiyBRS",
        "outputId": "ac97199e-7062-45a2-cca8-5c99192dc91c"
      },
      "execution_count": 7,
      "outputs": [
        {
          "output_type": "stream",
          "name": "stdout",
          "text": [
            "Output of AND gate for inputs [0, 0, 1, 1] and [0, 1, 0, 1] with threshold 2: [0, 0, 0, 1]\n"
          ]
        }
      ]
    },
    {
      "cell_type": "markdown",
      "source": [
        "MCP Neuron for OR Operation"
      ],
      "metadata": {
        "id": "FQZdadC9yYxB"
      }
    },
    {
      "cell_type": "code",
      "source": [
        "def MCP_Neurons_OR(X1, X2, T):\n",
        "    \"\"\"\n",
        "    This function implements basic OR operations with an MCP Neuron for two inputs.\n",
        "\n",
        "    Arguments:\n",
        "    X1 (list): A list of binary values (0 or 1).\n",
        "    X2 (list): A list of binary values (0 or 1).\n",
        "    T (int): Threshold value.\n",
        "\n",
        "    Output:\n",
        "    state_neuron (list): The state of the neuron (1 or 0) for the given inputs.\n",
        "    \"\"\"\n",
        "    assert len(X1) == len(X2), \"Input lists must have the same length.\"\n",
        "\n",
        "    state_neuron = []  # List to store output states\n",
        "\n",
        "    for x1, x2 in zip(X1, X2):\n",
        "        if (x1 + x2) >= T:\n",
        "            state_neuron.append(1)\n",
        "        else:\n",
        "            state_neuron.append(0)\n",
        "\n",
        "    return state_neuron\n",
        "\n",
        "# Example usage for MCP_Neurons_OR function\n",
        "X1 = [0, 0, 1, 1]\n",
        "X2 = [0, 1, 0, 1]\n",
        "T = 1  # Threshold value for OR gate\n",
        "\n",
        "# Call the MCP_Neurons_OR function\n",
        "result_or = MCP_Neurons_OR(X1, X2, T)\n",
        "\n",
        "# Print the result\n",
        "print(f\"Output of OR gate for inputs {X1} and {X2} with threshold {T}: {result_or}\")\n"
      ],
      "metadata": {
        "colab": {
          "base_uri": "https://localhost:8080/"
        },
        "id": "hB49T0KlyZf9",
        "outputId": "6f9e7b22-d663-44d7-ba56-63cec0e90b27"
      },
      "execution_count": 8,
      "outputs": [
        {
          "output_type": "stream",
          "name": "stdout",
          "text": [
            "Output of OR gate for inputs [0, 0, 1, 1] and [0, 1, 0, 1] with threshold 1: [0, 1, 1, 1]\n"
          ]
        }
      ]
    },
    {
      "cell_type": "markdown",
      "source": [
        " • Question- 1: List out all the limitations of MCP- Neurons."
      ],
      "metadata": {
        "id": "o1BL58Wuy1NL"
      }
    },
    {
      "cell_type": "markdown",
      "source": [
        "cCulloch-Pitts (MCP) neurons have several limitations, including:\n",
        "\n",
        "Inability to Solve Non-Linearly Separable Problems\n",
        "\n",
        "MCP neurons can only model linearly separable functions (e.g., AND, OR).\n",
        "They cannot solve problems like XOR, which requires a non-linear decision boundary.\n",
        "Fixed Weights and Threshold\n",
        "\n",
        "The weights and threshold are handcrafted and not learned through training.\n",
        "There is no weight adjustment based on experience or data.\n",
        "Lack of Learning Mechanism\n",
        "\n",
        "Unlike modern neural networks, MCP neurons do not use backpropagation or gradient descent to learn from data.\n",
        "No Concept of Activation Functions\n",
        "\n",
        "The neuron only produces binary outputs (0 or 1), limiting its ability to model complex relationships.\n",
        "It cannot handle continuous values like modern activation functions (e.g., sigmoid, ReLU).\n",
        "Limited Computational Power\n",
        "\n",
        "A single-layer MCP network can only perform simple logical operations and cannot model real-world complex patterns.\n"
      ],
      "metadata": {
        "id": "wVhDlk0gy2dq"
      }
    },
    {
      "cell_type": "markdown",
      "source": [
        "Question- 2: Think if you can develop a logic to solve for XOR function using MCP Neuron.\n",
        " {Can you devise a if else rules.}"
      ],
      "metadata": {
        "id": "2crX04xsy6Uz"
      }
    },
    {
      "cell_type": "markdown",
      "source": [],
      "metadata": {
        "id": "VnF2FcTMzAg_"
      }
    },
    {
      "cell_type": "markdown",
      "source": [
        "Logic for XOR Using MCP Neurons\n",
        "XOR truth table:\n",
        "nginx\n",
        "Copy\n",
        "Edit\n",
        "X1  X2  Output\n",
        "0   0   0\n",
        "0   1   1\n",
        "1   0   1\n",
        "1   1   0\n",
        "XOR can be expressed as:\n",
        "X\n",
        "XOR=(X1 OR X2) AND NOT (X1 AND X2)\n",
        "\n",
        "Implementation Using MCP Neurons\n",
        "Compute OR output using an MCP neuron.\n",
        "Compute AND output using an MCP neuron.\n",
        "Apply NOT to the AND output.\n",
        "Use another MCP neuron to AND the OR output with NOT(AND output)."
      ],
      "metadata": {
        "id": "oAs39vzRzCpY"
      }
    },
    {
      "cell_type": "code",
      "source": [
        "def MCP_Neurons_XOR(X1, X2):\n",
        "    \"\"\"\n",
        "    Implements XOR using MCP Neurons by combining OR, AND, and NOT operations.\n",
        "    \"\"\"\n",
        "    assert len(X1) == len(X2), \"Input lists must have the same length.\"\n",
        "\n",
        "    state_neuron = []  # Store XOR output\n",
        "\n",
        "    for x1, x2 in zip(X1, X2):\n",
        "        or_result = 1 if (x1 + x2) >= 1 else 0  # OR operation (threshold = 1)\n",
        "        and_result = 1 if (x1 + x2) >= 2 else 0  # AND operation (threshold = 2)\n",
        "        not_and_result = 1 if and_result == 0 else 0  # NOT operation\n",
        "        xor_result = 1 if (or_result and not_and_result) else 0  # Final XOR\n",
        "\n",
        "        state_neuron.append(xor_result)\n",
        "\n",
        "    return state_neuron\n",
        "\n",
        "# Example usage\n",
        "X1 = [0, 0, 1, 1]\n",
        "X2 = [0, 1, 0, 1]\n",
        "\n",
        "# Call the XOR function\n",
        "result_xor = MCP_Neurons_XOR(X1, X2)\n",
        "\n",
        "# Print result\n",
        "print(f\"Output of XOR gate for inputs {X1} and {X2}: {result_xor}\")\n"
      ],
      "metadata": {
        "colab": {
          "base_uri": "https://localhost:8080/"
        },
        "id": "JY9qmsgPzNVk",
        "outputId": "06d86733-2615-42e9-d839-db7b00758c96"
      },
      "execution_count": 9,
      "outputs": [
        {
          "output_type": "stream",
          "name": "stdout",
          "text": [
            "Output of XOR gate for inputs [0, 0, 1, 1] and [0, 1, 0, 1]: [0, 1, 1, 0]\n"
          ]
        }
      ]
    },
    {
      "cell_type": "markdown",
      "source": [
        " Task 2: Perceptron Algorithm for 0 vs 1 Classification."
      ],
      "metadata": {
        "id": "3RwiwBR-zmGH"
      }
    },
    {
      "cell_type": "markdown",
      "source": [
        "Load the Dataset:"
      ],
      "metadata": {
        "id": "uWveq4F2z9zM"
      }
    },
    {
      "cell_type": "code",
      "source": [
        "import pandas as pd\n",
        "import numpy as np\n",
        "import matplotlib.pyplot as plt\n",
        "from sklearn.model_selection import train_test_split\n",
        "from sklearn.preprocessing import StandardScaler\n",
        "\n",
        "# Load the dataset\n",
        "df_0_1 = pd.read_csv(\"/content/drive/MyDrive/6CS012 AI/mnist_0_and_1.csv\")\n",
        "\n",
        "# Extract features and labels\n",
        "X = df_0_1.drop(columns=[\"label\"]).values  # 784 pixels\n",
        "y = df_0_1[\"label\"].values  # Labels (0 or 1)\n",
        "\n",
        "# Check the shape of the features and labels\n",
        "print(\"Feature matrix shape:\", X.shape)\n",
        "print(\"Label vector shape:\", y.shape)\n",
        "\n",
        "# Normalize pixel values (Optional but recommended for training)\n",
        "X = X / 255.0\n",
        "\n",
        "# Split dataset into training and testing sets (80% train, 20% test)\n",
        "X_train, X_test, y_train, y_test = train_test_split(X, y, test_size=0.2, random_state=42)\n",
        "\n",
        "print(\"Training set shape:\", X_train.shape)\n",
        "print(\"Testing set shape:\", X_test.shape)\n",
        "\n",
        "# Display a sample image\n",
        "sample_index = 0  # Change this index to view different images\n",
        "sample_image = X_train[sample_index].reshape(28, 28)  # Reshape to 28x28 pixels\n",
        "\n",
        "plt.imshow(sample_image, cmap=\"gray\")\n",
        "plt.title(f\"Label: {y_train[sample_index]}\")\n",
        "plt.axis(\"off\")\n",
        "plt.show()\n"
      ],
      "metadata": {
        "colab": {
          "base_uri": "https://localhost:8080/",
          "height": 497
        },
        "id": "UHD1FugU1CXu",
        "outputId": "bc8fc430-82cf-421b-a6bc-4a0ba20591f2"
      },
      "execution_count": 11,
      "outputs": [
        {
          "output_type": "stream",
          "name": "stdout",
          "text": [
            "Feature matrix shape: (12665, 784)\n",
            "Label vector shape: (12665,)\n",
            "Training set shape: (10132, 784)\n",
            "Testing set shape: (2533, 784)\n"
          ]
        },
        {
          "output_type": "display_data",
          "data": {
            "text/plain": [
              "<Figure size 640x480 with 1 Axes>"
            ],
            "image/png": "[encoded data removed]"
          },
          "metadata": {}
        }
      ]
    },
    {
      "cell_type": "markdown",
      "source": [
        " Question- 1: What does the shape of X represent?"
      ],
      "metadata": {
        "id": "9p1Qy09l1q--"
      }
    },
    {
      "cell_type": "markdown",
      "source": [
        "The shape of X represents the number of samples (images) and the number of features (pixels per image).\n",
        "\n",
        "The dataset consists of images of digits 0 and 1 from the MNIST dataset.\n",
        "Each image is 28×28 pixels, meaning there are 784 features per image (since 28 × 28 = 784).\n",
        "The first dimension in X.shape represents the number of images (samples).\n",
        "The second dimension represents the number of pixels (flattened into a vector).\n",
        "For example, if X.shape = (2000, 784), it means:\n",
        "\n",
        "There are 2000 images in the dataset.\n",
        "Each image is represented as a 784-dimensional feature vector (28×28 pixels flattened into one row)."
      ],
      "metadata": {
        "id": "LgReHS931ryj"
      }
    },
    {
      "cell_type": "markdown",
      "source": [
        " Question- 2: What does the shape of X represent?"
      ],
      "metadata": {
        "id": "GzoK3pHY1vI-"
      }
    },
    {
      "cell_type": "markdown",
      "source": [
        "The shape of y represents the number of labels corresponding to the samples in X.\n",
        "\n",
        "y is a 1D array containing the labels (0 or 1) for each image.\n",
        "Its shape is (num_samples,), meaning it has one label per image.\n",
        "For example, if y.shape = (2000,), it means:\n",
        "\n",
        "There are 2000 labels corresponding to 2000 images in X.\n",
        "Each value in y is either 0 or 1, representing the digit in the image."
      ],
      "metadata": {
        "id": "Ib_J-82e1xy1"
      }
    },
    {
      "cell_type": "markdown",
      "source": [
        "Visualize the Dataset:"
      ],
      "metadata": {
        "id": "C_sZWnIb11oV"
      }
    },
    {
      "cell_type": "code",
      "source": [
        "import pandas as pd\n",
        "import numpy as np\n",
        "import matplotlib.pyplot as plt\n",
        "\n",
        "# Load the dataset\n",
        "df_0_1 = pd.read_csv(\"/content/drive/MyDrive/6CS012 AI/mnist_0_and_1.csv\")  # Ensure the correct file path\n",
        "\n",
        "# Extract features and labels\n",
        "X = df_0_1.drop(columns=[\"label\"]).values  # 784 pixels (flattened images)\n",
        "y = df_0_1[\"label\"].values  # Labels (0 or 1)\n",
        "\n",
        "# Normalize pixel values (optional but useful)\n",
        "X = X / 255.0\n",
        "\n",
        "# Separate images for label 0 and label 1\n",
        "images_0 = X[y == 0]  # Get all images with label 0\n",
        "images_1 = X[y == 1]  # Get all images with label 1\n",
        "\n",
        "# Create a 2x5 subplot for visualization\n",
        "fig, axes = plt.subplots(2, 5, figsize=(10, 5))\n",
        "\n",
        "# Check if we have enough images for visualization\n",
        "if len(images_0) < 5 or len(images_1) < 5:\n",
        "    print(\"Error: Not enough images in images_0 or images_1 to plot 5 images.\")\n",
        "else:\n",
        "    for i in range(5):\n",
        "        # Plot digit 0\n",
        "        axes[0, i].imshow(images_0[i].reshape(28, 28), cmap=\"gray\")\n",
        "        axes[0, i].set_title(\"Label: 0\")\n",
        "        axes[0, i].axis(\"off\")\n",
        "\n",
        "        # Plot digit 1\n",
        "        axes[1, i].imshow(images_1[i].reshape(28, 28), cmap=\"gray\")\n",
        "        axes[1, i].set_title(\"Label: 1\")\n",
        "        axes[1, i].axis(\"off\")\n",
        "\n",
        "    # Add a title to the figure\n",
        "    plt.suptitle(\"First 5 Images of 0 and 1 from MNIST Subset\", fontsize=14)\n",
        "    plt.show()\n"
      ],
      "metadata": {
        "colab": {
          "base_uri": "https://localhost:8080/",
          "height": 451
        },
        "id": "wve1aSd714s1",
        "outputId": "f09faba8-a755-4d94-d77d-b2789568614b"
      },
      "execution_count": 12,
      "outputs": [
        {
          "output_type": "display_data",
          "data": {
            "text/plain": [
              "<Figure size 1000x500 with 10 Axes>"
            ],
            "image/png": "[encoded data removed]"
          },
          "metadata": {}
        }
      ]
    },
    {
      "cell_type": "markdown",
      "source": [
        " 3. Initialize Weights and Bias:"
      ],
      "metadata": {
        "id": "5kY-sIb23KxO"
      }
    },
    {
      "cell_type": "code",
      "source": [
        "import numpy as np\n",
        "\n",
        "# Initialize weights and bias\n",
        "weights = np.zeros(X.shape[1])  # 784 weights (one for each pixel)\n",
        "bias = 0\n",
        "learning_rate = 0.1\n",
        "epochs = 100\n",
        "\n",
        "# Perceptron training loop\n",
        "for epoch in range(epochs):\n",
        "    for i in range(len(X)):\n",
        "        # Compute the weighted sum (linear combination)\n",
        "        linear_output = np.dot(X[i], weights) + bias\n",
        "\n",
        "        # Apply step function (threshold activation)\n",
        "        prediction = 1 if linear_output >= 0 else 0  # Binary classification\n",
        "\n",
        "        # Update weights and bias if prediction is incorrect\n",
        "        if prediction != y[i]:\n",
        "            update = learning_rate * (y[i] - prediction)\n",
        "            weights += update * X[i]  # Adjust weights\n",
        "            bias += update  # Adjust bias\n",
        "\n",
        "    # Optional: Print progress every 10 epochs\n",
        "    if (epoch + 1) % 10 == 0:\n",
        "        print(f\"Epoch {epoch+1}/{epochs} completed\")\n",
        "\n",
        "print(\"Training complete!\")\n"
      ],
      "metadata": {
        "colab": {
          "base_uri": "https://localhost:8080/"
        },
        "id": "pIz4nss63QXe",
        "outputId": "17c9ca5f-1b80-453e-bef8-50241feeb300"
      },
      "execution_count": 13,
      "outputs": [
        {
          "output_type": "stream",
          "name": "stdout",
          "text": [
            "Epoch 10/100 completed\n",
            "Epoch 20/100 completed\n",
            "Epoch 30/100 completed\n",
            "Epoch 40/100 completed\n",
            "Epoch 50/100 completed\n",
            "Epoch 60/100 completed\n",
            "Epoch 70/100 completed\n",
            "Epoch 80/100 completed\n",
            "Epoch 90/100 completed\n",
            "Epoch 100/100 completed\n",
            "Training complete!\n"
          ]
        }
      ]
    },
    {
      "cell_type": "markdown",
      "source": [
        " 1. Question- 3: What does the weights array represent in this context?"
      ],
      "metadata": {
        "id": "0Rwrzv9H3hkA"
      }
    },
    {
      "cell_type": "markdown",
      "source": [
        "he weights array represents the importance (or contribution) of each pixel in the 28×28 image when making a classification decision between digits 0 and 1.\n",
        "\n",
        "Since each image has 784 pixels, we initialize 784 weights (one for each pixel).\n",
        "These weights are updated during training to increase or decrease the influence of specific pixels on the classification decision.\n",
        "After training, the weights will help the perceptron classify an image as either 0 or 1 based on the weighted sum of pixel intensities."
      ],
      "metadata": {
        "id": "Y_-8rZIq3iL4"
      }
    },
    {
      "cell_type": "markdown",
      "source": [
        "2. Question- 4: Why are we initializing the weights to zero? What effect could this\n",
        " have on the training process?"
      ],
      "metadata": {
        "id": "rOyZhrMd3l2I"
      }
    },
    {
      "cell_type": "markdown",
      "source": [
        "We initialize the weights to zero for simplicity, but this can cause issues in certain learning algorithms:\n",
        "\n",
        "Uniform Updates:\n",
        "\n",
        "If all weights start at 0, every feature (pixel) will be treated the same initially. The perceptron algorithm can still learn since weights are updated iteratively, but more complex models like deep neural networks may struggle.\n",
        "Symmetry Problem (for Neural Networks, not Perceptron)\n",
        "\n",
        "In deeper networks, if all weights are initialized to 0, neurons will learn identical features, leading to inefficient learning.\n",
        "This is not an issue for a single-layer perceptron, as it uses simple weight updates based on the perceptron learning rule.\n",
        "Alternative Approaches:\n",
        "\n",
        "Instead of zeros, weights are often initialized with small random values (e.g., np.random.randn() * 0.01) to break symmetry and speed up learning."
      ],
      "metadata": {
        "id": "gzzqZbEM3oqB"
      }
    },
    {
      "cell_type": "markdown",
      "source": [
        "4. ImplementaDecisionFunctionorActivationFunction:"
      ],
      "metadata": {
        "id": "HztdTBph3wys"
      }
    },
    {
      "cell_type": "code",
      "source": [
        "import numpy as np\n",
        "\n",
        "def decision_function(X, weights, bias):\n",
        "    \"\"\"\n",
        "    Compute the predicted labels for the input data.\n",
        "\n",
        "    Parameters:\n",
        "    - X: Features (input data) as a numpy array of shape (n_samples, n_features)\n",
        "    - weights: Updated weights after training\n",
        "    - bias: Updated bias after training\n",
        "\n",
        "    Returns:\n",
        "    - y_pred_all: The predicted labels (0 or 1) for the input data\n",
        "    \"\"\"\n",
        "    predictions = np.dot(X, weights) + bias  # Compute linear output\n",
        "\n",
        "    # Apply step function (activation function)\n",
        "    y_pred_all = np.where(predictions >= 0, 1, 0)  # Classify as 1 if >= 0, else 0\n",
        "\n",
        "    return y_pred_all\n",
        "\n",
        "# Sample Data for Testing\n",
        "np.random.seed(42)  # Set seed for reproducibility\n",
        "X_sample = np.random.rand(5, 3)  # Random input features (5 samples, 3 features)\n",
        "weights_sample = np.random.rand(3)  # Random weights for 3 features\n",
        "bias_sample = np.random.rand()  # Random bias\n",
        "\n",
        "# Get predictions\n",
        "predictions = decision_function(X_sample, weights_sample, bias_sample)\n",
        "\n",
        "# Display Results\n",
        "print(\"Input Features (X_sample):\\n\", X_sample)\n",
        "print(\"\\nWeights:\\n\", weights_sample)\n",
        "print(\"\\nBias:\\n\", bias_sample)\n",
        "print(\"\\nPredicted Labels:\\n\", predictions)\n"
      ],
      "metadata": {
        "colab": {
          "base_uri": "https://localhost:8080/"
        },
        "id": "2MfN9qXu3xiZ",
        "outputId": "008ba968-5164-4eb8-d501-4aba830d4f7d"
      },
      "execution_count": 16,
      "outputs": [
        {
          "output_type": "stream",
          "name": "stdout",
          "text": [
            "Input Features (X_sample):\n",
            " [[0.37454012 0.95071431 0.73199394]\n",
            " [0.59865848 0.15601864 0.15599452]\n",
            " [0.05808361 0.86617615 0.60111501]\n",
            " [0.70807258 0.02058449 0.96990985]\n",
            " [0.83244264 0.21233911 0.18182497]]\n",
            "\n",
            "Weights:\n",
            " [0.18340451 0.30424224 0.52475643]\n",
            "\n",
            "Bias:\n",
            " 0.43194501864211576\n",
            "\n",
            "Predicted Labels:\n",
            " [1 1 1 1 1]\n"
          ]
        }
      ]
    },
    {
      "cell_type": "markdown",
      "source": [
        " 5. ImplementthePerceptronLearningAlgorithm:"
      ],
      "metadata": {
        "id": "qkfHsnIB4ttY"
      }
    },
    {
      "cell_type": "code",
      "source": [
        "import numpy as np\n",
        "import pandas as pd\n",
        "import matplotlib.pyplot as plt\n",
        "\n",
        "# Load Dataset\n",
        "df_0_1 = pd.read_csv(\"/content/drive/MyDrive/6CS012 AI/mnist_0_and_1.csv\")  # Ensure the correct file path\n",
        "\n",
        "# Extract Features (X) and Labels (y)\n",
        "X = df_0_1.drop(columns=[\"label\"]).values  # 784 pixels as features\n",
        "y = df_0_1[\"label\"].values  # Labels (0 or 1)\n",
        "\n",
        "# Check dataset shape\n",
        "print(\"Feature matrix shape:\", X.shape)  # Should be (n_samples, 784)\n",
        "print(\"Label vector shape:\", y.shape)  # Should be (n_samples,)\n",
        "\n",
        "# Normalize pixel values (optional but recommended)\n",
        "X = X / 255.0  # Scale values between 0 and 1\n",
        "\n",
        "# Initialize Weights and Bias\n",
        "weights = np.zeros(X.shape[1])  # 784 weights (one per pixel)\n",
        "bias = 0\n",
        "learning_rate = 0.1\n",
        "epochs = 10  # Reduce for quicker testing\n",
        "\n",
        "# Define Activation Function (Step Function)\n",
        "def step_function(value):\n",
        "    return 1 if value >= 0 else 0\n",
        "\n",
        "# Train Perceptron Algorithm\n",
        "def train_perceptron(X, y, weights, bias, learning_rate, epochs):\n",
        "    n_samples = X.shape[0]  # Number of training samples\n",
        "    for epoch in range(epochs):\n",
        "        correct_predictions = 0\n",
        "\n",
        "        for i in range(n_samples):\n",
        "            # Compute Weighted Sum\n",
        "            linear_output = np.dot(X[i], weights) + bias\n",
        "            y_pred = step_function(linear_output)\n",
        "\n",
        "            # Weight Update Rule (only if misclassified)\n",
        "            if y_pred == y[i]:\n",
        "                correct_predictions += 1\n",
        "            else:\n",
        "                error = y[i] - y_pred\n",
        "                weights += learning_rate * error * X[i]  # Update weights\n",
        "                bias += learning_rate * error  # Update bias\n",
        "\n",
        "        # Calculate Accuracy\n",
        "        accuracy = correct_predictions / n_samples\n",
        "        print(f\"Epoch {epoch+1}/{epochs} - Accuracy: {accuracy:.4f}\")  # Display Accuracy\n",
        "\n",
        "    return weights, bias\n",
        "\n",
        "# Train the perceptron\n",
        "final_weights, final_bias = train_perceptron(X, y, weights, bias, learning_rate, epochs)\n",
        "\n",
        "# Print Final Weights and Bias\n",
        "print(\"\\nFinal Weights:\", final_weights[:5])  # Show first 5 weights\n",
        "print(\"Final Bias:\", final_bias)\n"
      ],
      "metadata": {
        "colab": {
          "base_uri": "https://localhost:8080/"
        },
        "id": "-eXgDB234wlK",
        "outputId": "076f1912-4496-4cef-eaf2-e47030a02fae"
      },
      "execution_count": 18,
      "outputs": [
        {
          "output_type": "stream",
          "name": "stdout",
          "text": [
            "Feature matrix shape: (12665, 784)\n",
            "Label vector shape: (12665,)\n",
            "Epoch 1/10 - Accuracy: 0.9962\n",
            "Epoch 2/10 - Accuracy: 0.9982\n",
            "Epoch 3/10 - Accuracy: 0.9984\n",
            "Epoch 4/10 - Accuracy: 0.9993\n",
            "Epoch 5/10 - Accuracy: 0.9991\n",
            "Epoch 6/10 - Accuracy: 0.9995\n",
            "Epoch 7/10 - Accuracy: 1.0000\n",
            "Epoch 8/10 - Accuracy: 1.0000\n",
            "Epoch 9/10 - Accuracy: 1.0000\n",
            "Epoch 10/10 - Accuracy: 1.0000\n",
            "\n",
            "Final Weights: [0. 0. 0. 0. 0.]\n",
            "Final Bias: 1.5000000000000002\n"
          ]
        }
      ]
    },
    {
      "cell_type": "markdown",
      "source": [
        " 1.Question-5:Whatisthepurposeoftheoutput=np.dot(X[i],weights)+biasline?"
      ],
      "metadata": {
        "id": "5sc4ofgo5r_N"
      }
    },
    {
      "cell_type": "markdown",
      "source": [
        "This line computes the weighted sum of the inputs, which is the key step in a perceptron. Here's what it does:\n",
        "\n",
        "np.dot(X[i], weights): Computes the dot product between the input features (X[i]) and the weights (weights).\n",
        "+ bias: Adds a bias term to shift the decision boundary."
      ],
      "metadata": {
        "id": "eWqDdjc16JyC"
      }
    },
    {
      "cell_type": "markdown",
      "source": [
        "2. Question- 6: What happens when the prediction is wrong? How are the weights and\n",
        " bias updated?"
      ],
      "metadata": {
        "id": "MW6h5MPK6LCk"
      }
    },
    {
      "cell_type": "markdown",
      "source": [
        "If the prediction (y_pred) does not match the actual label (y[i]), the perceptron updates the weights and bias using the perceptron learning rule:\n",
        "\n",
        "weights\n",
        "=\n",
        "weights\n",
        "+learning rate×(error)×𝑋𝑖]\n",
        "\n",
        "weights=weights+learning rate×(error)×X[i]\n",
        "\n",
        "bias=bias+learning rate×(error)\n",
        "\n",
        "bias=bias+learning rate×(error)\n",
        "Where:\n",
        "\n",
        "error = y[i] - y_pred\n",
        "If y_pred is too low (0 instead of 1), we increase weights.\n",
        "If y_pred is too high (1 instead of 0), we decrease weights."
      ],
      "metadata": {
        "id": "7WMvD3Sj6Pm3"
      }
    },
    {
      "cell_type": "markdown",
      "source": [
        "3. Question- 7:Why is the final accuracy important, and what do you expect it to be?"
      ],
      "metadata": {
        "id": "US7HPLQM7Vpu"
      }
    },
    {
      "cell_type": "markdown",
      "source": [
        "Final accuracy measures how well the perceptron has learned to classify digits 0 vs 1.\n",
        "We expect the accuracy to be close to 100% after training if the dataset is clean and linearly separable.\n"
      ],
      "metadata": {
        "id": "51-iRov77aJT"
      }
    },
    {
      "cell_type": "markdown",
      "source": [
        "7. Visualizing the Misclassified Image:"
      ],
      "metadata": {
        "id": "HA8sFSPO7baC"
      }
    },
    {
      "cell_type": "code",
      "source": [
        "import numpy as np\n",
        "import matplotlib.pyplot as plt\n",
        "\n",
        "# Get predictions for all data points\n",
        "predictions = np.dot(X, weights) + bias\n",
        "y_pred = np.where(predictions >= 0, 1, 0)\n",
        "\n",
        "# Calculate final accuracy\n",
        "final_accuracy = np.mean(y_pred == y)\n",
        "print(f\"Final Accuracy: {final_accuracy:.4f}\")\n",
        "\n",
        "# Identify misclassified indices\n",
        "misclassified_idx = np.where(y_pred != y)[0]\n",
        "\n",
        "# Step 5: Visualize Misclassified Images\n",
        "if len(misclassified_idx) > 0:\n",
        "    fig, axes = plt.subplots(2, 5, figsize=(10, 5))  # Create a 2x5 grid for images\n",
        "    for ax, idx in zip(axes.flat, misclassified_idx[:10]):  # Show up to 10 misclassified images\n",
        "        ax.imshow(X[idx].reshape(28, 28), cmap=\"gray\")\n",
        "        ax.set_title(f\"Pred: {y_pred[idx]}, True: {y[idx]}\")\n",
        "        ax.axis(\"off\")  # Hide axis labels\n",
        "    plt.suptitle(\"Misclassified Images\")\n",
        "    plt.show()\n",
        "else:\n",
        "    print(\"All images were correctly classified!\")\n"
      ],
      "metadata": {
        "colab": {
          "base_uri": "https://localhost:8080/",
          "height": 512
        },
        "id": "8bf2nm6v7ex8",
        "outputId": "4981c0fd-b0a4-4915-ba73-a92a779d05e4"
      },
      "execution_count": 19,
      "outputs": [
        {
          "output_type": "stream",
          "name": "stdout",
          "text": [
            "Final Accuracy: 0.9994\n"
          ]
        },
        {
          "output_type": "display_data",
          "data": {
            "text/plain": [
              "<Figure size 1000x500 with 10 Axes>"
            ],
            "image/png": "[encoded data removed]"
          },
          "metadata": {}
        }
      ]
    },
    {
      "cell_type": "markdown",
      "source": [
        "1. Question- 8:What does misclassified idx store, and how is it used in this code?"
      ],
      "metadata": {
        "id": "25-FlKdp7-Gr"
      }
    },
    {
      "cell_type": "markdown",
      "source": [
        "misclassified_idx = np.where(y_pred != y)[0]\n",
        "\n",
        "This line finds indices where the predicted labels (y_pred) do not match the actual labels (y).\n",
        "It returns an array of indices where misclassification occurs.\n",
        "🔹 How it is used in the code:\n",
        "\n",
        "These indices are used to extract misclassified images and display them using matplotlib.\n",
        "The loop for ax, idx in zip(axes.flat, misclassified_idx[:10]) ensures that up to 10 misclassified images are shown."
      ],
      "metadata": {
        "id": "8hYaAUPc7-ur"
      }
    },
    {
      "cell_type": "markdown",
      "source": [
        "2. Question- 9: How do you interpret the result if the output is ”All images were\n",
        " correctly classified!”?"
      ],
      "metadata": {
        "id": "ovUpLFkU8CSh"
      }
    },
    {
      "cell_type": "markdown",
      "source": [
        "If this message appears, it means the perceptron classified all images correctly.\n",
        "This suggests that the dataset is perfectly separable using a linear classifier (which is not always the case in real-world data).\n",
        "It also indicates that the model learned well and converged successfully."
      ],
      "metadata": {
        "id": "F-iBmiXS8Emr"
      }
    },
    {
      "cell_type": "markdown",
      "source": [
        " Task 3: Perceptron Algorithm for 3 vs 5 Classification."
      ],
      "metadata": {
        "id": "-ekvBUDN8Lfs"
      }
    },
    {
      "cell_type": "markdown",
      "source": [
        " Step 1: Load and Preprocess the Dataset"
      ],
      "metadata": {
        "id": "Ul75usEc9PL6"
      }
    },
    {
      "cell_type": "code",
      "source": [
        "import pandas as pd\n",
        "import numpy as np\n",
        "import matplotlib.pyplot as plt\n",
        "\n",
        "# Load dataset\n",
        "df_3_5 = pd.read_csv(\"/content/drive/MyDrive/6CS012 AI/mnist_0_and_1.csv\")  # Change the path if needed\n",
        "\n",
        "# Extract features and labels\n",
        "X = df_3_5.drop(columns=[\"label\"]).values  # Extract pixel values\n",
        "y = df_3_5[\"label\"].values  # Labels (3 or 5)\n",
        "\n",
        "# Convert labels: 3 → 0, 5 → 1 (for binary classification)\n",
        "y = np.where(y == 3, 0, 1)\n",
        "\n",
        "# Print shape\n",
        "print(\"Feature matrix shape:\", X.shape)\n",
        "print(\"Label vector shape:\", y.shape)\n"
      ],
      "metadata": {
        "colab": {
          "base_uri": "https://localhost:8080/"
        },
        "id": "b2ZIL0Mz9QGA",
        "outputId": "44bf8364-f357-40ea-8b8c-d0adafb83e90"
      },
      "execution_count": 20,
      "outputs": [
        {
          "output_type": "stream",
          "name": "stdout",
          "text": [
            "Feature matrix shape: (12665, 784)\n",
            "Label vector shape: (12665,)\n"
          ]
        }
      ]
    },
    {
      "cell_type": "markdown",
      "source": [
        "Step 2: Initialize Weights and Bias"
      ],
      "metadata": {
        "id": "0zqxooSk9m2j"
      }
    },
    {
      "cell_type": "code",
      "source": [
        "# Initialize weights and bias\n",
        "weights = np.zeros(X.shape[1])  # 784 weights (one per pixel)\n",
        "bias = 0\n",
        "learning_rate = 0.1\n",
        "epochs = 100\n"
      ],
      "metadata": {
        "id": "P-9CdRA49ngq"
      },
      "execution_count": 21,
      "outputs": []
    },
    {
      "cell_type": "markdown",
      "source": [
        "Step 3: Define the Decision Function"
      ],
      "metadata": {
        "id": "K5L6Y9b293cw"
      }
    },
    {
      "cell_type": "code",
      "source": [
        "def decision_function(X, weights, bias):\n",
        "    \"\"\"\n",
        "    Computes the predicted labels for input data using perceptron activation (step function).\n",
        "    \"\"\"\n",
        "    predictions = np.dot(X, weights) + bias\n",
        "    return np.where(predictions >= 0, 1, 0)  # Apply step function\n"
      ],
      "metadata": {
        "id": "8cQyMNm39310"
      },
      "execution_count": 22,
      "outputs": []
    },
    {
      "cell_type": "markdown",
      "source": [
        "Step 4: Train the Perceptron"
      ],
      "metadata": {
        "id": "5nfZnkdB9-r4"
      }
    },
    {
      "cell_type": "code",
      "source": [
        "def train_perceptron(X, y, weights, bias, learning_rate=0.1, epochs=100):\n",
        "    \"\"\"\n",
        "    Train the perceptron using the perceptron learning algorithm.\n",
        "    \"\"\"\n",
        "    for epoch in range(epochs):\n",
        "        for i in range(len(y)):\n",
        "            # Compute prediction\n",
        "            output = np.dot(X[i], weights) + bias\n",
        "            prediction = 1 if output >= 0 else 0\n",
        "\n",
        "            # Update weights and bias if prediction is incorrect\n",
        "            if prediction != y[i]:\n",
        "                update = learning_rate * (y[i] - prediction)\n",
        "                weights += update * X[i]\n",
        "                bias += update\n",
        "\n",
        "    return weights, bias\n"
      ],
      "metadata": {
        "id": "uB0TEV9r-DAE"
      },
      "execution_count": 23,
      "outputs": []
    },
    {
      "cell_type": "markdown",
      "source": [
        "Step 5: Train the Model\n",
        "\n"
      ],
      "metadata": {
        "id": "CRhmz2Rm-RMF"
      }
    },
    {
      "cell_type": "code",
      "source": [
        "# Train perceptron\n",
        "weights, bias = train_perceptron(X, y, weights, bias, learning_rate, epochs)\n"
      ],
      "metadata": {
        "id": "N-hyrZFW-VBh"
      },
      "execution_count": 24,
      "outputs": []
    },
    {
      "cell_type": "markdown",
      "source": [
        "Step 6: Evaluate Model Performance"
      ],
      "metadata": {
        "id": "7BYJk-4f-eHB"
      }
    },
    {
      "cell_type": "code",
      "source": [
        "# Get predictions for all data points\n",
        "predictions = np.dot(X, weights) + bias\n",
        "y_pred = np.where(predictions >= 0, 1, 0)\n",
        "\n",
        "# Calculate accuracy\n",
        "accuracy = np.mean(y_pred == y)\n",
        "print(f\"Final Accuracy: {accuracy:.4f}\")\n"
      ],
      "metadata": {
        "colab": {
          "base_uri": "https://localhost:8080/"
        },
        "id": "RjR4PAbU-hLF",
        "outputId": "f8cddf24-489e-4271-a72d-f300da435602"
      },
      "execution_count": 25,
      "outputs": [
        {
          "output_type": "stream",
          "name": "stdout",
          "text": [
            "Final Accuracy: 1.0000\n"
          ]
        }
      ]
    },
    {
      "cell_type": "markdown",
      "source": [
        "Step 7: Visualize Misclassified Images"
      ],
      "metadata": {
        "id": "YqswvHz5-ov2"
      }
    },
    {
      "cell_type": "code",
      "source": [
        "# Find misclassified images\n",
        "misclassified_idx = np.where(y_pred != y)[0]\n",
        "\n",
        "if len(misclassified_idx) > 0:\n",
        "    fig, axes = plt.subplots(2, 5, figsize=(10, 5))\n",
        "\n",
        "    for ax, idx in zip(axes.flat, misclassified_idx[:10]):  # Show 10 misclassified images\n",
        "        ax.imshow(X[idx].reshape(28, 28), cmap=\"gray\")\n",
        "        ax.set_title(f\"Pred: {y_pred[idx]}, True: {y[idx]}\")\n",
        "        ax.axis(\"off\")\n",
        "\n",
        "    plt.suptitle(\"Misclassified Images on 3 vs 5 Classification\")\n",
        "    plt.show()\n",
        "else:\n",
        "    print(\"All images were correctly classified!\")\n"
      ],
      "metadata": {
        "colab": {
          "base_uri": "https://localhost:8080/"
        },
        "id": "fh_d4t3N-pS_",
        "outputId": "7bba6b6d-4cc1-40db-96e6-e12f5a48cfcd"
      },
      "execution_count": 26,
      "outputs": [
        {
          "output_type": "stream",
          "name": "stdout",
          "text": [
            "All images were correctly classified!\n"
          ]
        }
      ]
    },
    {
      "cell_type": "markdown",
      "source": [
        "Final Output"
      ],
      "metadata": {
        "id": "clNUSamj-3x3"
      }
    },
    {
      "cell_type": "code",
      "source": [
        "import pandas as pd\n",
        "import numpy as np\n",
        "import matplotlib.pyplot as plt\n",
        "\n",
        "# Load dataset (ensure the correct path)\n",
        "df_3_5 = pd.read_csv(\"/content/drive/MyDrive/6CS012 AI/mnist_3_and_5.csv\")\n",
        "\n",
        "# Extract features and labels\n",
        "X = df_3_5.drop(columns=[\"label\"]).values  # 784 pixel values (28x28 flattened)\n",
        "y = df_3_5[\"label\"].values  # Labels (3 or 5)\n",
        "\n",
        "# Convert labels: 3 → 0, 5 → 1 (for perceptron training)\n",
        "y = np.where(y == 3, 0, 1)\n",
        "\n",
        "# Initialize perceptron parameters\n",
        "weights = np.zeros(X.shape[1])  # 784 weights (one per pixel)\n",
        "bias = 0\n",
        "learning_rate = 0.01\n",
        "epochs = 10  # Reduce epochs for faster debugging\n",
        "\n",
        "# Decision function (step function)\n",
        "def decision_function(X, weights, bias):\n",
        "    predictions = np.dot(X, weights) + bias\n",
        "    return np.where(predictions >= 0, 1, 0)  # Step activation (0 or 1)\n",
        "\n",
        "# Perceptron Training Algorithm\n",
        "def train_perceptron(X, y, weights, bias, learning_rate=0.01, epochs=10):\n",
        "    for epoch in range(epochs):\n",
        "        for i in range(len(y)):\n",
        "            output = np.dot(X[i], weights) + bias\n",
        "            prediction = 1 if output >= 0 else 0  # Step function\n",
        "\n",
        "            # Update rule if prediction is wrong\n",
        "            if prediction != y[i]:\n",
        "                update = learning_rate * (y[i] - prediction)\n",
        "                weights += update * X[i]\n",
        "                bias += update\n",
        "    return weights, bias\n",
        "\n",
        "# Train perceptron\n",
        "weights, bias = train_perceptron(X, y, weights, bias, learning_rate, epochs)\n",
        "\n",
        "# Make predictions on the dataset\n",
        "predictions = np.dot(X, weights) + bias\n",
        "y_pred = np.where(predictions >= 0, 1, 0)  # Convert to binary classification output\n",
        "\n",
        "# Calculate accuracy\n",
        "accuracy = np.mean(y_pred == y)\n",
        "print(f\"Final Accuracy: {accuracy:.4f}\")\n",
        "\n",
        "# Identify misclassified images\n",
        "misclassified_idx = np.where(y_pred != y)[0]\n",
        "\n",
        "# Visualize the first 10 misclassified images\n",
        "if len(misclassified_idx) > 0:\n",
        "    fig, axes = plt.subplots(2, 5, figsize=(10, 5))\n",
        "\n",
        "    for ax, idx in zip(axes.flat, misclassified_idx[:10]):  # Display 10 misclassified images\n",
        "        ax.imshow(X[idx].reshape(28, 28), cmap=\"gray\")\n",
        "        ax.set_title(f\"Pred: {5 if y_pred[idx] == 1 else 3}, True: {5 if y[idx] == 1 else 3}\")\n",
        "        ax.axis(\"off\")\n",
        "\n",
        "    plt.suptitle(\"Misclassified Images on 3 vs 5 Classification\")\n",
        "    plt.show()\n",
        "else:\n",
        "    print(\"All images were correctly classified!\")\n",
        "\n",
        "\n",
        "\n"
      ],
      "metadata": {
        "colab": {
          "base_uri": "https://localhost:8080/",
          "height": 468
        },
        "id": "p2oLb_I1-5ZC",
        "outputId": "b6c4582d-b2a0-4cdd-d8fa-3eeb125b6d21"
      },
      "execution_count": 32,
      "outputs": [
        {
          "output_type": "stream",
          "name": "stdout",
          "text": [
            "Final Accuracy: 0.9613\n"
          ]
        },
        {
          "output_type": "display_data",
          "data": {
            "text/plain": [
              "<Figure size 1000x500 with 10 Axes>"
            ],
            "image/png": "[encoded data removed]"
          },
          "metadata": {}
        }
      ]
    }
  ]
}