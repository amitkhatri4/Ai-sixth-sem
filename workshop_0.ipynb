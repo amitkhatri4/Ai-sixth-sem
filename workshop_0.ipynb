{
  "nbformat": 4,
  "nbformat_minor": 0,
  "metadata": {
    "colab": {
      "provenance": []
    },
    "kernelspec": {
      "name": "python3",
      "display_name": "Python 3"
    },
    "language_info": {
      "name": "python"
    }
  },
  "cells": [
    {
      "cell_type": "markdown",
      "source": [
        "Task 1"
      ],
      "metadata": {
        "id": "Gr1g9gSKj1GB"
      }
    },
    {
      "cell_type": "code",
      "source": [
        "def convert_length(value, unit):\n",
        "    \"\"\"\n",
        "    Converts length between meters and feet.\n",
        "    :param value: The numerical value to be converted.\n",
        "    :param unit: The unit of the given value ('m' for meters, 'ft' for feet).\n",
        "    :return: Converted value with the appropriate unit.\n",
        "    \"\"\"\n",
        "    if unit == \"m\":\n",
        "        return value * 3.28084, \"ft\"\n",
        "    elif unit == \"ft\":\n",
        "        return value / 3.28084, \"m\"\n",
        "    else:\n",
        "        raise ValueError(\"Unsupported unit for length conversion.\")\n",
        "\n",
        "def convert_weight(value, unit):\n",
        "    \"\"\"\n",
        "    Converts weight between kilograms and pounds.\n",
        "    :param value: The numerical value to be converted.\n",
        "    :param unit: The unit of the given value ('kg' for kilograms, 'lbs' for pounds).\n",
        "    :return: Converted value with the appropriate unit.\n",
        "    \"\"\"\n",
        "    if unit == \"kg\":\n",
        "        return value * 2.20462, \"lbs\"\n",
        "    elif unit == \"lbs\":\n",
        "        return value / 2.20462, \"kg\"\n",
        "    else:\n",
        "        raise ValueError(\"Unsupported unit for weight conversion.\")\n",
        "\n",
        "def convert_volume(value, unit):\n",
        "    \"\"\"\n",
        "    Converts volume between liters and gallons.\n",
        "    :param value: The numerical value to be converted.\n",
        "    :param unit: The unit of the given value ('L' for liters, 'gal' for gallons).\n",
        "    :return: Converted value with the appropriate unit.\n",
        "    \"\"\"\n",
        "    if unit == \"L\":\n",
        "        return value * 0.264172, \"gal\"\n",
        "    elif unit == \"gal\":\n",
        "        return value / 0.264172, \"L\"\n",
        "    else:\n",
        "        raise ValueError(\"Unsupported unit for volume conversion.\")\n",
        "\n",
        "def main():\n",
        "    \"\"\"Main function to handle user input and perform conversions.\"\"\"\n",
        "    print(\"Unit Converter: Choose a conversion type\")\n",
        "    print(\"1. Length (m <-> ft)\")\n",
        "    print(\"2. Weight (kg <-> lbs)\")\n",
        "    print(\"3. Volume (L <-> gal)\")\n",
        "\n",
        "    try:\n",
        "        choice = int(input(\"Enter your choice (1-3): \"))\n",
        "        value = float(input(\"Enter the value to convert: \"))\n",
        "        unit = input(\"Enter the unit (m, ft, kg, lbs, L, gal): \").strip()\n",
        "\n",
        "        if choice == 1:\n",
        "            converted_value, new_unit = convert_length(value, unit)\n",
        "        elif choice == 2:\n",
        "            converted_value, new_unit = convert_weight(value, unit)\n",
        "        elif choice == 3:\n",
        "            converted_value, new_unit = convert_volume(value, unit)\n",
        "        else:\n",
        "            print(\"Invalid choice! Please enter a number between 1 and 3.\")\n",
        "            return\n",
        "\n",
        "        print(f\"Converted Value: {converted_value:.2f} {new_unit}\")\n",
        "    except ValueError as e:\n",
        "        print(f\"Error: {e}. Please enter a valid number and unit.\")\n",
        "    except Exception as e:\n",
        "        print(f\"Unexpected error: {e}\")\n",
        "\n",
        "if __name__ == \"__main__\":\n",
        "    main()\n",
        ""
      ],
      "metadata": {
        "colab": {
          "base_uri": "https://localhost:8080/"
        },
        "id": "uTX8jtIxj6Ak",
        "outputId": "bf31fc28-35eb-45a6-e49a-0de1e24efdb4"
      },
      "execution_count": 2,
      "outputs": [
        {
          "output_type": "stream",
          "name": "stdout",
          "text": [
            "Unit Converter: Choose a conversion type\n",
            "1. Length (m <-> ft)\n",
            "2. Weight (kg <-> lbs)\n",
            "3. Volume (L <-> gal)\n",
            "Enter your choice (1-3): 2\n",
            "Enter the value to convert: 6\n",
            "Enter the unit (m, ft, kg, lbs, L, gal): kg\n",
            "Converted Value: 13.23 lbs\n"
          ]
        }
      ]
    },
    {
      "cell_type": "markdown",
      "source": [
        "Task- 2"
      ],
      "metadata": {
        "id": "7kbZejxsniBw"
      }
    },
    {
      "cell_type": "code",
      "source": [
        "def calculate_sum(numbers):\n",
        "    \"\"\"\n",
        "    Calculates the sum of a list of numbers.\n",
        "    :param numbers: List of numerical values.\n",
        "    :return: Sum of the numbers.\n",
        "    \"\"\"\n",
        "    return sum(numbers)\n",
        "\n",
        "def calculate_average(numbers):\n",
        "    \"\"\"\n",
        "    Calculates the average of a list of numbers.\n",
        "    :param numbers: List of numerical values.\n",
        "    :return: Average of the numbers.\n",
        "    \"\"\"\n",
        "    return sum(numbers) / len(numbers) if numbers else 0\n",
        "\n",
        "def find_maximum(numbers):\n",
        "    \"\"\"\n",
        "    Finds the maximum value in a list of numbers.\n",
        "    :param numbers: List of numerical values.\n",
        "    :return: Maximum number in the list.\n",
        "    \"\"\"\n",
        "    return max(numbers)\n",
        "\n",
        "def find_minimum(numbers):\n",
        "    \"\"\"\n",
        "    Finds the minimum value in a list of numbers.\n",
        "    :param numbers: List of numerical values.\n",
        "    :return: Minimum number in the list.\n",
        "    \"\"\"\n",
        "    return min(numbers)\n",
        "\n",
        "def main():\n",
        "    \"\"\"Main function to handle user input and perform mathematical operations.\"\"\"\n",
        "    print(\"Mathematical Operations on a List of Numbers\")\n",
        "    print(\"1. Sum\")\n",
        "    print(\"2. Average\")\n",
        "    print(\"3. Maximum\")\n",
        "    print(\"4. Minimum\")\n",
        "\n",
        "    try:\n",
        "        choice = int(input(\"Enter your choice (1-4): \"))\n",
        "        numbers = list(map(float, input(\"Enter a list of numbers separated by spaces: \").split()))\n",
        "\n",
        "        if not numbers:\n",
        "            raise ValueError(\"The list cannot be empty.\")\n",
        "\n",
        "        if choice == 1:\n",
        "            result = calculate_sum(numbers)\n",
        "        elif choice == 2:\n",
        "            result = calculate_average(numbers)\n",
        "        elif choice == 3:\n",
        "            result = find_maximum(numbers)\n",
        "        elif choice == 4:\n",
        "            result = find_minimum(numbers)\n",
        "        else:\n",
        "            print(\"Invalid choice! Please enter a number between 1 and 4.\")\n",
        "            return\n",
        "\n",
        "        print(f\"Result: {result:.2f}\")\n",
        "    except ValueError as e:\n",
        "        print(f\"Error: {e}. Please enter valid numeric values.\")\n",
        "    except Exception as e:\n",
        "        print(f\"Unexpected error: {e}\")\n",
        "\n",
        "if __name__ == \"__main__\":\n",
        "    main()"
      ],
      "metadata": {
        "colab": {
          "base_uri": "https://localhost:8080/"
        },
        "id": "CW899jdAnjRD",
        "outputId": "450c1340-e3dc-4e86-a41a-40fa1aa9f39f"
      },
      "execution_count": 3,
      "outputs": [
        {
          "output_type": "stream",
          "name": "stdout",
          "text": [
            "Mathematical Operations on a List of Numbers\n",
            "1. Sum\n",
            "2. Average\n",
            "3. Maximum\n",
            "4. Minimum\n",
            "Enter your choice (1-4): 1\n",
            "Enter a list of numbers separated by spaces: 1 2 3 4\n",
            "Result: 10.00\n"
          ]
        }
      ]
    },
    {
      "cell_type": "markdown",
      "source": [
        " Exercise on List Manipulation:"
      ],
      "metadata": {
        "id": "suhFo0oaoaRG"
      }
    },
    {
      "cell_type": "markdown",
      "source": [
        " 1. Extract Every Other Element:"
      ],
      "metadata": {
        "id": "G999QEQ4osbW"
      }
    },
    {
      "cell_type": "code",
      "source": [
        "def extract_every_other(lst):\n",
        "    \"\"\"\n",
        "    Extracts every other element from a list, starting from the first element.\n",
        "    :param lst: List of elements.\n",
        "    :return: A new list containing every other element.\n",
        "    \"\"\"\n",
        "    return lst[::2]\n",
        "\n",
        "# Example usage:\n",
        "sample_list = [1, 2, 3, 4, 5, 6]\n",
        "result = extract_every_other(sample_list)\n",
        "print(result)"
      ],
      "metadata": {
        "colab": {
          "base_uri": "https://localhost:8080/"
        },
        "id": "xxTXJOvgotEy",
        "outputId": "13b0a50e-b330-4cb1-a6e4-e67edca42286"
      },
      "execution_count": 4,
      "outputs": [
        {
          "output_type": "stream",
          "name": "stdout",
          "text": [
            "[1, 3, 5]\n"
          ]
        }
      ]
    },
    {
      "cell_type": "markdown",
      "source": [
        " 2. Slice a Sublist"
      ],
      "metadata": {
        "id": "kq6Q-h_jpfhZ"
      }
    },
    {
      "cell_type": "code",
      "source": [
        "\n",
        "def get_sublist(lst, start, end):\n",
        "    \"\"\"\n",
        "    Returns a sublist from the given list, including the start and end indices.\n",
        "    :param lst: List of elements.\n",
        "    :param start: Starting index (inclusive).\n",
        "    :param end: Ending index (inclusive).\n",
        "    :return: A sublist from start to end.\n",
        "    \"\"\"\n",
        "    return lst[start:end+1]\n",
        "\n",
        "# Example usage:\n",
        "sample_list = [1, 2, 3, 4, 5, 6]\n",
        "result = extract_every_other(sample_list)\n",
        "print(result)  # Output: [1, 3, 5]\n",
        "\n",
        "sublist_result = get_sublist(sample_list, 2, 4)\n",
        "print(sublist_result)"
      ],
      "metadata": {
        "colab": {
          "base_uri": "https://localhost:8080/"
        },
        "id": "T0oig-zRpgnJ",
        "outputId": "32df0a93-6e13-47c7-cb88-7d9c21e9b896"
      },
      "execution_count": 8,
      "outputs": [
        {
          "output_type": "stream",
          "name": "stdout",
          "text": [
            "[1, 3, 5]\n",
            "[3, 4, 5]\n"
          ]
        }
      ]
    },
    {
      "cell_type": "markdown",
      "source": [
        "3. Reverse a List Using Slicing"
      ],
      "metadata": {
        "id": "VgRcbu8_ps21"
      }
    },
    {
      "cell_type": "code",
      "source": [
        "def reverse_list(lst):\n",
        "    \"\"\"\n",
        "    Reverses a list using slicing.\n",
        "    :param lst: List of elements.\n",
        "    :return: A new list with elements in reverse order.\n",
        "    \"\"\"\n",
        "    return lst[::-1]\n",
        "\n",
        "# Example usage:\n",
        "sample_list = [1, 2, 3, 4, 5, 6]\n",
        "result = extract_every_other(sample_list)\n",
        "print(result)  # Output: [1, 3, 5]\n",
        "\n",
        "sublist_result = get_sublist(sample_list, 2, 4)\n",
        "print(sublist_result)  # Output: [3, 4, 5]\n",
        "\n",
        "reversed_result = reverse_list(sample_list)\n",
        "print(reversed_result)"
      ],
      "metadata": {
        "colab": {
          "base_uri": "https://localhost:8080/"
        },
        "id": "eheMnjFIpwli",
        "outputId": "97570757-b053-4d1a-8ad4-721e847117f7"
      },
      "execution_count": 7,
      "outputs": [
        {
          "output_type": "stream",
          "name": "stdout",
          "text": [
            "[1, 3, 5]\n",
            "[3, 4, 5]\n",
            "[6, 5, 4, 3, 2, 1]\n"
          ]
        }
      ]
    },
    {
      "cell_type": "markdown",
      "source": [
        "4. Remove the First and Last Elements:"
      ],
      "metadata": {
        "id": "zqJ5nzScqlRa"
      }
    },
    {
      "cell_type": "code",
      "source": [
        "def remove_first_last(lst):\n",
        "    \"\"\"\n",
        "    Removes the first and last elements of a list and returns the resulting sublist.\n",
        "    :param lst: List of elements.\n",
        "    :return: A sublist without the first and last elements.\n",
        "    \"\"\"\n",
        "    return lst[1:-1]\n",
        "\n",
        "# Example usage:\n",
        "sample_list = [1, 2, 3, 4, 5, 6]\n",
        "result = extract_every_other(sample_list)\n",
        "print(result)  # Output: [1, 3, 5]\n",
        "\n",
        "sublist_result = get_sublist(sample_list, 2, 4)\n",
        "print(sublist_result)  # Output: [3, 4, 5]\n",
        "\n",
        "reversed_result = reverse_list(sample_list)\n",
        "print(reversed_result)  # Output: [6, 5, 4, 3, 2, 1]\n",
        "\n",
        "trimmed_result = remove_first_last(sample_list)\n",
        "print(trimmed_result)"
      ],
      "metadata": {
        "colab": {
          "base_uri": "https://localhost:8080/"
        },
        "id": "tvtSqd4EqpUk",
        "outputId": "c529037d-1741-4d3f-eb9d-c5946e5785a4"
      },
      "execution_count": 9,
      "outputs": [
        {
          "output_type": "stream",
          "name": "stdout",
          "text": [
            "[1, 3, 5]\n",
            "[3, 4, 5]\n",
            "[6, 5, 4, 3, 2, 1]\n",
            "[2, 3, 4, 5]\n"
          ]
        }
      ]
    },
    {
      "cell_type": "markdown",
      "source": [
        " 5. Get the First n Elements:"
      ],
      "metadata": {
        "id": "EVRhB6Vnra4P"
      }
    },
    {
      "cell_type": "code",
      "source": [
        "def get_first_n(lst, n):\n",
        "    \"\"\"\n",
        "    Extracts the first n elements from a list.\n",
        "    :param lst: List of elements.\n",
        "    :param n: Number of elements to extract.\n",
        "    :return: A new list containing the first n elements.\n",
        "    \"\"\"\n",
        "    return lst[:n]\n",
        "\n",
        "# Example usage:\n",
        "sample_list = [1, 2, 3, 4, 5, 6]\n",
        "result = extract_every_other(sample_list)\n",
        "print(result)  # Output: [1, 3, 5]\n",
        "\n",
        "sublist_result = get_sublist(sample_list, 2, 4)\n",
        "print(sublist_result)  # Output: [3, 4, 5]\n",
        "\n",
        "reversed_result = reverse_list(sample_list)\n",
        "print(reversed_result)  # Output: [6, 5, 4, 3, 2, 1]\n",
        "\n",
        "trimmed_result = remove_first_last(sample_list)\n",
        "print(trimmed_result)  # Output: [2, 3, 4, 5]\n",
        "\n",
        "first_n_result = get_first_n(sample_list, 3)\n",
        "print(first_n_result)"
      ],
      "metadata": {
        "colab": {
          "base_uri": "https://localhost:8080/"
        },
        "id": "u9K1l6Fbrb7G",
        "outputId": "d4c42e42-aa73-428d-cb38-2635cf51c385"
      },
      "execution_count": 10,
      "outputs": [
        {
          "output_type": "stream",
          "name": "stdout",
          "text": [
            "[1, 3, 5]\n",
            "[3, 4, 5]\n",
            "[6, 5, 4, 3, 2, 1]\n",
            "[2, 3, 4, 5]\n",
            "[1, 2, 3]\n"
          ]
        }
      ]
    },
    {
      "cell_type": "markdown",
      "source": [
        "6. Extract Elements from the End:"
      ],
      "metadata": {
        "id": "xfjN0MfKr5OF"
      }
    },
    {
      "cell_type": "code",
      "source": [
        "def extract_every_other(lst):\n",
        "    \"\"\"\n",
        "    Extracts every other element from a list, starting from the first element.\n",
        "    :param lst: List of elements.\n",
        "    :return: A new list containing every other element.\n",
        "    \"\"\"\n",
        "    return lst[::2]\n",
        "\n",
        "def get_sublist(lst, start, end):\n",
        "    \"\"\"\n",
        "    Returns a sublist from the given list, including the start and end indices.\n",
        "    :param lst: List of elements.\n",
        "    :param start: Starting index (inclusive).\n",
        "    :param end: Ending index (inclusive).\n",
        "    :return: A sublist from start to end.\n",
        "    \"\"\"\n",
        "    return lst[start:end+1]\n",
        "\n",
        "def reverse_list(lst):\n",
        "    \"\"\"\n",
        "    Reverses a list using slicing.\n",
        "    :param lst: List of elements.\n",
        "    :return: A new list with elements in reverse order.\n",
        "    \"\"\"\n",
        "    return lst[::-1]\n",
        "\n",
        "def remove_first_last(lst):\n",
        "    \"\"\"\n",
        "    Removes the first and last elements of a list and returns the resulting sublist.\n",
        "    :param lst: List of elements.\n",
        "    :return: A sublist without the first and last elements.\n",
        "    \"\"\"\n",
        "    return lst[1:-1]\n",
        "\n",
        "def get_first_n(lst, n):\n",
        "    \"\"\"\n",
        "    Extracts the first n elements from a list.\n",
        "    :param lst: List of elements.\n",
        "    :param n: Number of elements to extract.\n",
        "    :return: A new list containing the first n elements.\n",
        "    \"\"\"\n",
        "    return lst[:n]\n",
        "\n",
        "def get_last_n(lst, n):\n",
        "    \"\"\"\n",
        "    Extracts the last n elements from a list.\n",
        "    :param lst: List of elements.\n",
        "    :param n: Number of elements to extract from the end.\n",
        "    :return: A new list containing the last n elements.\n",
        "    \"\"\"\n",
        "    return lst[-n:]\n",
        "\n",
        "# Example usage:\n",
        "sample_list = [1, 2, 3, 4, 5, 6]\n",
        "result = extract_every_other(sample_list)\n",
        "print(result)  # Output: [1, 3, 5]\n",
        "\n",
        "sublist_result = get_sublist(sample_list, 2, 4)\n",
        "print(sublist_result)  # Output: [3, 4, 5]\n",
        "\n",
        "reversed_result = reverse_list(sample_list)\n",
        "print(reversed_result)  # Output: [6, 5, 4, 3, 2, 1]\n",
        "\n",
        "trimmed_result = remove_first_last(sample_list)\n",
        "print(trimmed_result)  # Output: [2, 3, 4, 5]\n",
        "\n",
        "first_n_result = get_first_n(sample_list, 3)\n",
        "print(first_n_result)  # Output: [1, 2, 3]\n",
        "\n",
        "last_n_result = get_last_n(sample_list, 2)\n",
        "print(last_n_result)"
      ],
      "metadata": {
        "colab": {
          "base_uri": "https://localhost:8080/"
        },
        "id": "r4TTWuQxr54q",
        "outputId": "250a44e9-7342-4c66-ff3e-6a189c12f713"
      },
      "execution_count": 12,
      "outputs": [
        {
          "output_type": "stream",
          "name": "stdout",
          "text": [
            "[1, 3, 5]\n",
            "[3, 4, 5]\n",
            "[6, 5, 4, 3, 2, 1]\n",
            "[2, 3, 4, 5]\n",
            "[1, 2, 3]\n",
            "[5, 6]\n"
          ]
        }
      ]
    },
    {
      "cell_type": "markdown",
      "source": [
        " 7. Extract Elements in Reverse Order"
      ],
      "metadata": {
        "id": "idsGnXf4sbjx"
      }
    },
    {
      "cell_type": "code",
      "source": [
        "def reverse_skip(lst):\n",
        "    \"\"\"\n",
        "    Extracts elements in reverse order, starting from the second-to-last element and skipping one in between.\n",
        "    :param lst: List of elements.\n",
        "    :return: A new list containing every second element in reverse order.\n",
        "    \"\"\"\n",
        "    return lst[-2::-2]\n",
        "\n",
        "# Example usage:\n",
        "sample_list = [1, 2, 3, 4, 5, 6]\n",
        "result = extract_every_other(sample_list)\n",
        "print(result)  # Output: [1, 3, 5]\n",
        "\n",
        "sublist_result = get_sublist(sample_list, 2, 4)\n",
        "print(sublist_result)  # Output: [3, 4, 5]\n",
        "\n",
        "reversed_result = reverse_list(sample_list)\n",
        "print(reversed_result)  # Output: [6, 5, 4, 3, 2, 1]\n",
        "\n",
        "trimmed_result = remove_first_last(sample_list)\n",
        "print(trimmed_result)  # Output: [2, 3, 4, 5]\n",
        "\n",
        "first_n_result = get_first_n(sample_list, 3)\n",
        "print(first_n_result)  # Output: [1, 2, 3]\n",
        "\n",
        "last_n_result = get_last_n(sample_list, 2)\n",
        "print(last_n_result)  # Output: [5, 6]\n",
        "\n",
        "reverse_skip_result = reverse_skip(sample_list)\n",
        "print(reverse_skip_result)\n"
      ],
      "metadata": {
        "colab": {
          "base_uri": "https://localhost:8080/"
        },
        "id": "NDEsIRC1spE2",
        "outputId": "7bc0ae53-f117-4054-888d-c69f34e47565"
      },
      "execution_count": 13,
      "outputs": [
        {
          "output_type": "stream",
          "name": "stdout",
          "text": [
            "[1, 3, 5]\n",
            "[3, 4, 5]\n",
            "[6, 5, 4, 3, 2, 1]\n",
            "[2, 3, 4, 5]\n",
            "[1, 2, 3]\n",
            "[5, 6]\n",
            "[5, 3, 1]\n"
          ]
        }
      ]
    },
    {
      "cell_type": "markdown",
      "source": [
        " 4.3 Exercise on Nested List:"
      ],
      "metadata": {
        "id": "zfdkghugs2Kn"
      }
    },
    {
      "cell_type": "markdown",
      "source": [
        " 1. Flatten a Nested List:"
      ],
      "metadata": {
        "id": "ofLCRhA6s3cH"
      }
    },
    {
      "cell_type": "code",
      "source": [
        "def flatten(lst):\n",
        "    \"\"\"\n",
        "    Flattens a nested list into a single list.\n",
        "    :param lst: Nested list of elements.\n",
        "    :return: A flattened list with all elements in a single dimension.\n",
        "    \"\"\"\n",
        "    return [item for sublist in lst for item in sublist]\n",
        "\n",
        "# Example usage:\n",
        "sample_list = [1, 2, 3, 4, 5, 6]\n",
        "result = extract_every_other(sample_list)\n",
        "print(result)  # Output: [1, 3, 5]\n",
        "\n",
        "sublist_result = get_sublist(sample_list, 2, 4)\n",
        "print(sublist_result)  # Output: [3, 4, 5]\n",
        "\n",
        "reversed_result = reverse_list(sample_list)\n",
        "print(reversed_result)  # Output: [6, 5, 4, 3, 2, 1]\n",
        "\n",
        "trimmed_result = remove_first_last(sample_list)\n",
        "print(trimmed_result)  # Output: [2, 3, 4, 5]\n",
        "\n",
        "first_n_result = get_first_n(sample_list, 3)\n",
        "print(first_n_result)  # Output: [1, 2, 3]\n",
        "\n",
        "last_n_result = get_last_n(sample_list, 2)\n",
        "print(last_n_result)  # Output: [5, 6]\n",
        "\n",
        "reverse_skip_result = reverse_skip(sample_list)\n",
        "print(reverse_skip_result)  # Output: [5, 3, 1]\n",
        "\n",
        "nested_list = [[1, 2], [3, 4], [5]]\n",
        "flattened_result = flatten(nested_list)\n",
        "print(flattened_result)"
      ],
      "metadata": {
        "colab": {
          "base_uri": "https://localhost:8080/"
        },
        "id": "MLaa1fZCs7Zz",
        "outputId": "00bee9b0-5c1c-4f72-d1b7-6a6479d4b6a2"
      },
      "execution_count": 14,
      "outputs": [
        {
          "output_type": "stream",
          "name": "stdout",
          "text": [
            "[1, 3, 5]\n",
            "[3, 4, 5]\n",
            "[6, 5, 4, 3, 2, 1]\n",
            "[2, 3, 4, 5]\n",
            "[1, 2, 3]\n",
            "[5, 6]\n",
            "[5, 3, 1]\n",
            "[1, 2, 3, 4, 5]\n"
          ]
        }
      ]
    },
    {
      "cell_type": "markdown",
      "source": [
        " 2. Accessing Nested List Elements:"
      ],
      "metadata": {
        "id": "97ZCmOIktYQE"
      }
    },
    {
      "cell_type": "code",
      "source": [
        "def access_nested_element(lst, indices):\n",
        "    \"\"\"\n",
        "    Extracts a specific element from a nested list given its indices.\n",
        "    :param lst: Nested list of elements.\n",
        "    :param indices: List of indices to access the desired element.\n",
        "    :return: The element at the specified indices.\n",
        "    \"\"\"\n",
        "    element = lst\n",
        "    for index in indices:\n",
        "        element = element[index]\n",
        "    return element\n",
        "\n",
        "# Example usage:\n",
        "sample_list = [1, 2, 3, 4, 5, 6]\n",
        "result = extract_every_other(sample_list)\n",
        "print(result)  # Output: [1, 3, 5]\n",
        "\n",
        "sublist_result = get_sublist(sample_list, 2, 4)\n",
        "print(sublist_result)  # Output: [3, 4, 5]\n",
        "\n",
        "reversed_result = reverse_list(sample_list)\n",
        "print(reversed_result)  # Output: [6, 5, 4, 3, 2, 1]\n",
        "\n",
        "trimmed_result = remove_first_last(sample_list)\n",
        "print(trimmed_result)  # Output: [2, 3, 4, 5]\n",
        "\n",
        "first_n_result = get_first_n(sample_list, 3)\n",
        "print(first_n_result)  # Output: [1, 2, 3]\n",
        "\n",
        "last_n_result = get_last_n(sample_list, 2)\n",
        "print(last_n_result)  # Output: [5, 6]\n",
        "\n",
        "reverse_skip_result = reverse_skip(sample_list)\n",
        "print(reverse_skip_result)  # Output: [5, 3, 1]\n",
        "\n",
        "nested_list = [[1, 2, 3], [4, 5, 6], [7, 8, 9]]\n",
        "flattened_result = flatten(nested_list)\n",
        "print(flattened_result)  # Output: [1, 2, 3, 4, 5, 6, 7, 8, 9]\n",
        "\n",
        "nested_element = access_nested_element(nested_list, [1, 2])\n",
        "print(nested_element)"
      ],
      "metadata": {
        "colab": {
          "base_uri": "https://localhost:8080/"
        },
        "id": "D6uKZl4StfP8",
        "outputId": "815fae67-e742-4527-bcbd-c56f333fcb49"
      },
      "execution_count": 15,
      "outputs": [
        {
          "output_type": "stream",
          "name": "stdout",
          "text": [
            "[1, 3, 5]\n",
            "[3, 4, 5]\n",
            "[6, 5, 4, 3, 2, 1]\n",
            "[2, 3, 4, 5]\n",
            "[1, 2, 3]\n",
            "[5, 6]\n",
            "[5, 3, 1]\n",
            "[1, 2, 3, 4, 5, 6, 7, 8, 9]\n",
            "6\n"
          ]
        }
      ]
    },
    {
      "cell_type": "markdown",
      "source": [
        "3. Sum of All Elements in a Nested List"
      ],
      "metadata": {
        "id": "QZXnijcbt4Ke"
      }
    },
    {
      "cell_type": "code",
      "source": [
        "def sum_nested(lst):\n",
        "    \"\"\"\n",
        "    Calculates the sum of all numbers in a nested list.\n",
        "    :param lst: Nested list of numbers.\n",
        "    :return: The sum of all numbers in the nested list.\n",
        "    \"\"\"\n",
        "    def flatten(nested_list):\n",
        "        \"\"\"Helper function to flatten a nested list.\"\"\"\n",
        "        result = []\n",
        "        for item in nested_list:\n",
        "            if isinstance(item, list):\n",
        "                result.extend(flatten(item))\n",
        "            else:\n",
        "                result.append(item)\n",
        "        return result\n",
        "\n",
        "    return sum(flatten(lst))\n",
        "\n",
        "# Example usage:\n",
        "print(sum_nested([[1, 2], [3, [4, 5]], 6]))  # Output: 21\n"
      ],
      "metadata": {
        "colab": {
          "base_uri": "https://localhost:8080/"
        },
        "id": "hRpEkEDNt5Et",
        "outputId": "2ca3e3bb-a726-49b4-f5e6-7ef3022eb365"
      },
      "execution_count": 17,
      "outputs": [
        {
          "output_type": "stream",
          "name": "stdout",
          "text": [
            "21\n"
          ]
        }
      ]
    },
    {
      "cell_type": "markdown",
      "source": [
        "4. Remove Specific Element from a Nested List"
      ],
      "metadata": {
        "id": "5ZUCwwmnx9lb"
      }
    },
    {
      "cell_type": "code",
      "source": [
        "def remove_element(lst, elem):\n",
        "    \"\"\"\n",
        "    Removes all occurrences of a specific element from a nested list.\n",
        "    :param lst: Nested list of elements.\n",
        "    :param elem: Element to be removed.\n",
        "    :return: The modified list without the specified element.\n",
        "    \"\"\"\n",
        "    if isinstance(lst, list):\n",
        "        return [remove_element(item, elem) for item in lst if item != elem]\n",
        "    else:\n",
        "        return lst\n",
        "\n",
        "# Example usage:\n",
        "nested_list = [[1, 2], [3, 2], [4, 5]]\n",
        "element_to_remove = 2\n",
        "print(remove_element(nested_list, element_to_remove))  # Output: [[1], [3], [4, 5]]\n"
      ],
      "metadata": {
        "colab": {
          "base_uri": "https://localhost:8080/"
        },
        "id": "3_f5sPnDx_mB",
        "outputId": "9ec2d54d-9173-47a4-c2e8-6ae833d068fa"
      },
      "execution_count": 18,
      "outputs": [
        {
          "output_type": "stream",
          "name": "stdout",
          "text": [
            "[[1], [3], [4, 5]]\n"
          ]
        }
      ]
    },
    {
      "cell_type": "markdown",
      "source": [
        " 5. Find the Maximum Element in a Nested List\n",
        "6. Count Occurrences of an Element in a Nested List:\n",
        "7. Flatten a List of Lists of Lists\n",
        "8. Nested List Average:\n"
      ],
      "metadata": {
        "id": "K381-HhTyFUT"
      }
    },
    {
      "cell_type": "code",
      "source": [
        "\n",
        "\n",
        "def extract_every_other(lst):\n",
        "    \"\"\"Extracts every other element from a list, starting from the first element.\"\"\"\n",
        "    return lst[::2]\n",
        "\n",
        "def get_sublist(lst, start, end):\n",
        "    \"\"\"Returns a sublist from start to end (inclusive).\"\"\"\n",
        "    return lst[start:end+1]\n",
        "\n",
        "def reverse_list(lst):\n",
        "    \"\"\"Reverses a list using slicing.\"\"\"\n",
        "    return lst[::-1]\n",
        "\n",
        "def remove_first_last(lst):\n",
        "    \"\"\"Removes the first and last elements of a list and returns the resulting sublist.\"\"\"\n",
        "    return lst[1:-1]\n",
        "\n",
        "def get_first_n(lst, n):\n",
        "    \"\"\"Extracts the first n elements from a list.\"\"\"\n",
        "    return lst[:n]\n",
        "\n",
        "def get_last_n(lst, n):\n",
        "    \"\"\"Extracts the last n elements of a list.\"\"\"\n",
        "    return lst[-n:]\n",
        "\n",
        "def reverse_skip(lst):\n",
        "    \"\"\"Extracts elements in reverse order, starting from the second-to-last element and skipping one in between.\"\"\"\n",
        "    return lst[-2::-2]\n",
        "\n",
        "def flatten(lst):\n",
        "    \"\"\"Flattens a nested list into a single list.\"\"\"\n",
        "    result = []\n",
        "    for item in lst:\n",
        "        if isinstance(item, list):\n",
        "            result.extend(flatten(item))\n",
        "        else:\n",
        "            result.append(item)\n",
        "    return result\n",
        "\n",
        "def access_nested_element(lst, indices):\n",
        "    \"\"\"Extracts a specific element from a nested list given its indices.\"\"\"\n",
        "    element = lst\n",
        "    for index in indices:\n",
        "        element = element[index]\n",
        "    return element\n",
        "\n",
        "def sum_nested(lst):\n",
        "    \"\"\"Calculates the sum of all numbers in a nested list.\"\"\"\n",
        "    return sum(flatten(lst))\n",
        "\n",
        "def remove_element(lst, elem):\n",
        "    \"\"\"Removes all occurrences of a specific element from a nested list.\"\"\"\n",
        "    return [[item for item in sublist if item != elem] for sublist in lst]\n",
        "\n",
        "def find_max_element(lst):\n",
        "    \"\"\"Finds the maximum element in a nested list.\"\"\"\n",
        "    return max(flatten(lst))\n",
        "\n",
        "def count_occurrences(lst, elem):\n",
        "    \"\"\"Counts the occurrences of a specific element in a nested list.\"\"\"\n",
        "    return flatten(lst).count(elem)\n",
        "\n",
        "def deep_flatten(lst):\n",
        "    \"\"\"Flattens a deeply nested list into a single list.\"\"\"\n",
        "    return flatten(lst)\n",
        "\n",
        "def average_nested(lst):\n",
        "    \"\"\"Calculates the average of all elements in a nested list.\"\"\"\n",
        "    flat_list = flatten(lst)\n",
        "    return sum(flat_list) / len(flat_list) if flat_list else 0\n",
        "\n",
        "# Example usage:\n",
        "sample_list = [1, 2, 3, 4, 5, 6]\n",
        "print(extract_every_other(sample_list))  # Output: [1, 3, 5]\n",
        "print(get_sublist(sample_list, 2, 4))  # Output: [3, 4, 5]\n",
        "print(reverse_list(sample_list))  # Output: [6, 5, 4, 3, 2, 1]\n",
        "print(remove_first_last(sample_list))  # Output: [2, 3, 4, 5]\n",
        "print(get_first_n(sample_list, 3))  # Output: [1, 2, 3]\n",
        "print(get_last_n(sample_list, 2))  # Output: [5, 6]\n",
        "print(reverse_skip(sample_list))  # Output: [5, 3, 1]\n",
        "\n",
        "nested_list = [[1, 2, 3], [4, 5, 6], [7, 8, 9]]\n",
        "print(flatten(nested_list))  # Output: [1, 2, 3, 4, 5, 6, 7, 8, 9]\n",
        "print(access_nested_element(nested_list, [1, 2]))  # Output: 6\n",
        "print(sum_nested([[1, 2], [3, [4, 5]], 6]))  # Output: 21\n",
        "print(remove_element([[1, 2], [3, 2], [4, 5]], 2))  # Output: [[1], [3], [4, 5]]\n",
        "print(find_max_element([[1, 2], [3, [4, 5]], 6]))  # Output: 6\n",
        "print(count_occurrences([[1, 2], [2, 3], [2, 4]], 2))  # Output: 3\n",
        "print(deep_flatten([[[1, 2], [3, 4]], [[5, 6], [7, 8]]]))  # Output: [1, 2, 3, 4, 5, 6, 7, 8]\n",
        "print(average_nested([[1, 2], [3, 4], [5, 6]]))  # Output: 3.5\n"
      ],
      "metadata": {
        "colab": {
          "base_uri": "https://localhost:8080/"
        },
        "id": "43PrMSg32I3J",
        "outputId": "c16e13b8-e5a2-4002-caca-a34e4f47d791"
      },
      "execution_count": 20,
      "outputs": [
        {
          "output_type": "stream",
          "name": "stdout",
          "text": [
            "[1, 3, 5]\n",
            "[3, 4, 5]\n",
            "[6, 5, 4, 3, 2, 1]\n",
            "[2, 3, 4, 5]\n",
            "[1, 2, 3]\n",
            "[5, 6]\n",
            "[5, 3, 1]\n",
            "[1, 2, 3, 4, 5, 6, 7, 8, 9]\n",
            "6\n",
            "21\n",
            "[[1], [3], [4, 5]]\n",
            "6\n",
            "3\n",
            "[1, 2, 3, 4, 5, 6, 7, 8]\n",
            "3.5\n"
          ]
        }
      ]
    },
    {
      "cell_type": "markdown",
      "source": [
        " 10 To- Do- NumPy"
      ],
      "metadata": {
        "id": "v0jRX4CI3q4U"
      }
    },
    {
      "cell_type": "markdown",
      "source": [
        "Problem- 1: Array Creation:"
      ],
      "metadata": {
        "id": "meidN7704DaU"
      }
    },
    {
      "cell_type": "code",
      "source": [
        "import numpy as np\n",
        "\n",
        "# 1. Initialize an empty array with size 2x2\n",
        "empty_array = np.empty((2, 2))\n",
        "print(\"Empty Array:\")\n",
        "print(empty_array)\n",
        "\n",
        "# 2. Initialize an all-ones array with size 4x2\n",
        "ones_array = np.ones((4, 2))\n",
        "print(\"\\nAll Ones Array:\")\n",
        "print(ones_array)\n",
        "\n",
        "# 3. Return a new array of given shape and type, filled with fill value\n",
        "fill_value = 7  # Example fill value\n",
        "filled_array = np.full((3, 3), fill_value)\n",
        "print(\"\\nFilled Array:\")\n",
        "print(filled_array)\n",
        "\n",
        "# 4. Return a new array of zeros with the same shape and type as a given array\n",
        "reference_array = np.array([[1, 2, 3], [4, 5, 6]])\n",
        "zeros_like_array = np.zeros_like(reference_array)\n",
        "print(\"\\nZeros Like Array:\")\n",
        "print(zeros_like_array)\n",
        "\n",
        "# 5. Return a new array of ones with the same shape and type as a given array\n",
        "ones_like_array = np.ones_like(reference_array)\n",
        "print(\"\\nOnes Like Array:\")\n",
        "print(ones_like_array)\n",
        "\n",
        "# 6. Convert an existing list to a NumPy array\n",
        "new_list = [1, 2, 3, 4]\n",
        "numpy_array = np.array(new_list)\n",
        "print(\"\\nConverted NumPy Array:\")\n",
        "print(numpy_array)\n"
      ],
      "metadata": {
        "colab": {
          "base_uri": "https://localhost:8080/"
        },
        "id": "wGC8laHf3r-Q",
        "outputId": "d630d5b1-4a59-43c6-bd35-3a665de6458c"
      },
      "execution_count": 21,
      "outputs": [
        {
          "output_type": "stream",
          "name": "stdout",
          "text": [
            "Empty Array:\n",
            "[[2.41917667e-316 0.00000000e+000]\n",
            " [6.93555648e-310 2.26368561e-076]]\n",
            "\n",
            "All Ones Array:\n",
            "[[1. 1.]\n",
            " [1. 1.]\n",
            " [1. 1.]\n",
            " [1. 1.]]\n",
            "\n",
            "Filled Array:\n",
            "[[7 7 7]\n",
            " [7 7 7]\n",
            " [7 7 7]]\n",
            "\n",
            "Zeros Like Array:\n",
            "[[0 0 0]\n",
            " [0 0 0]]\n",
            "\n",
            "Ones Like Array:\n",
            "[[1 1 1]\n",
            " [1 1 1]]\n",
            "\n",
            "Converted NumPy Array:\n",
            "[1 2 3 4]\n"
          ]
        }
      ]
    },
    {
      "cell_type": "markdown",
      "source": [
        "Problem- 2: Array Manipulation: Numerical Ranges and Array indexing"
      ],
      "metadata": {
        "id": "JK2mgnrY4Bb4"
      }
    },
    {
      "cell_type": "code",
      "source": [
        "import numpy as np\n",
        "\n",
        "# 1. Initialize an empty array with size 2x2\n",
        "empty_array = np.empty((2, 2))\n",
        "print(\"Empty Array:\")\n",
        "print(empty_array)\n",
        "\n",
        "# 2. Initialize an all-ones array with size 4x2\n",
        "ones_array = np.ones((4, 2))\n",
        "print(\"\\nAll Ones Array:\")\n",
        "print(ones_array)\n",
        "\n",
        "# 3. Return a new array of given shape and type, filled with fill value\n",
        "fill_value = 7  # Example fill value\n",
        "filled_array = np.full((3, 3), fill_value)\n",
        "print(\"\\nFilled Array:\")\n",
        "print(filled_array)\n",
        "\n",
        "# 4. Return a new array of zeros with the same shape and type as a given array\n",
        "reference_array = np.array([[1, 2, 3], [4, 5, 6]])\n",
        "zeros_like_array = np.zeros_like(reference_array)\n",
        "print(\"\\nZeros Like Array:\")\n",
        "print(zeros_like_array)\n",
        "\n",
        "# 5. Return a new array of ones with the same shape and type as a given array\n",
        "ones_like_array = np.ones_like(reference_array)\n",
        "print(\"\\nOnes Like Array:\")\n",
        "print(ones_like_array)\n",
        "\n",
        "# 6. Convert an existing list to a NumPy array\n",
        "new_list = [1, 2, 3, 4]\n",
        "numpy_array = np.array(new_list)\n",
        "print(\"\\nConverted NumPy Array:\")\n",
        "print(numpy_array)\n",
        "\n",
        "# Problem-2: Array Manipulation: Numerical Ranges and Array Indexing\n",
        "\n",
        "# 1. Create an array with values ranging from 10 to 49\n",
        "range_array = np.arange(10, 50)\n",
        "print(\"\\nArray with values from 10 to 49:\")\n",
        "print(range_array)\n",
        "\n",
        "# 2. Create a 3x3 matrix with values ranging from 0 to 8\n",
        "matrix_3x3 = np.arange(9).reshape((3, 3))\n",
        "print(\"\\n3x3 Matrix with values from 0 to 8:\")\n",
        "print(matrix_3x3)\n",
        "\n",
        "# 3. Create a 3x3 identity matrix\n",
        "identity_matrix = np.eye(3)\n",
        "print(\"\\n3x3 Identity Matrix:\")\n",
        "print(identity_matrix)\n",
        "\n",
        "# 4. Create a random array of size 30 and find the mean\n",
        "random_array = np.random.random(30)\n",
        "mean_value = random_array.mean()\n",
        "print(\"\\nRandom Array of size 30:\")\n",
        "print(random_array)\n",
        "print(\"Mean of the array:\", mean_value)\n",
        "\n",
        "# 5. Create a 10x10 array with random values and find min & max\n",
        "random_matrix = np.random.random((10, 10))\n",
        "min_value = random_matrix.min()\n",
        "max_value = random_matrix.max()\n",
        "print(\"\\n10x10 Random Matrix:\")\n",
        "print(random_matrix)\n",
        "print(\"Minimum Value:\", min_value)\n",
        "print(\"Maximum Value:\", max_value)\n",
        "\n",
        "# 6. Create a zero array of size 10 and replace 5th element with 1\n",
        "zero_array = np.zeros(10)\n",
        "zero_array[4] = 1\n",
        "print(\"\\nZero Array with 5th element as 1:\")\n",
        "print(zero_array)\n",
        "\n",
        "# 7. Reverse an array\n",
        "arr = np.array([1, 2, 0, 0, 4, 0])\n",
        "reversed_arr = arr[::-1]\n",
        "print(\"\\nReversed Array:\")\n",
        "print(reversed_arr)\n",
        "\n",
        "# 8. Create a 2D array with 1 on the border and 0 inside\n",
        "border_array = np.ones((5, 5))\n",
        "border_array[1:-1, 1:-1] = 0\n",
        "print(\"\\n2D Array with border 1 and inside 0:\")\n",
        "print(border_array)\n",
        "\n",
        "# 9. Create an 8x8 matrix and fill it with a checkerboard pattern\n",
        "checkerboard = np.zeros((8, 8), dtype=int)\n",
        "checkerboard[1::2, ::2] = 1\n",
        "checkerboard[::2, 1::2] = 1\n",
        "print(\"\\n8x8 Checkerboard Pattern:\")\n",
        "print(checkerboard)"
      ],
      "metadata": {
        "colab": {
          "base_uri": "https://localhost:8080/"
        },
        "id": "Xqz3Px9q4J4M",
        "outputId": "e5eb6853-abc3-4d5b-a6c6-2e169557cbfe"
      },
      "execution_count": 22,
      "outputs": [
        {
          "output_type": "stream",
          "name": "stdout",
          "text": [
            "Empty Array:\n",
            "[[2.38440493e-316 0.00000000e+000]\n",
            " [4.94065646e-324             nan]]\n",
            "\n",
            "All Ones Array:\n",
            "[[1. 1.]\n",
            " [1. 1.]\n",
            " [1. 1.]\n",
            " [1. 1.]]\n",
            "\n",
            "Filled Array:\n",
            "[[7 7 7]\n",
            " [7 7 7]\n",
            " [7 7 7]]\n",
            "\n",
            "Zeros Like Array:\n",
            "[[0 0 0]\n",
            " [0 0 0]]\n",
            "\n",
            "Ones Like Array:\n",
            "[[1 1 1]\n",
            " [1 1 1]]\n",
            "\n",
            "Converted NumPy Array:\n",
            "[1 2 3 4]\n",
            "\n",
            "Array with values from 10 to 49:\n",
            "[10 11 12 13 14 15 16 17 18 19 20 21 22 23 24 25 26 27 28 29 30 31 32 33\n",
            " 34 35 36 37 38 39 40 41 42 43 44 45 46 47 48 49]\n",
            "\n",
            "3x3 Matrix with values from 0 to 8:\n",
            "[[0 1 2]\n",
            " [3 4 5]\n",
            " [6 7 8]]\n",
            "\n",
            "3x3 Identity Matrix:\n",
            "[[1. 0. 0.]\n",
            " [0. 1. 0.]\n",
            " [0. 0. 1.]]\n",
            "\n",
            "Random Array of size 30:\n",
            "[0.09701993 0.99845569 0.48226102 0.02628575 0.8304051  0.36429959\n",
            " 0.78329472 0.33206931 0.07203506 0.78978613 0.37345306 0.78279233\n",
            " 0.91543849 0.83588721 0.36665162 0.86614229 0.20860364 0.42654784\n",
            " 0.99791668 0.96570565 0.10605733 0.73345232 0.00453311 0.77903121\n",
            " 0.01718029 0.21198821 0.46780973 0.82962913 0.30830611 0.93451567]\n",
            "Mean of the array: 0.5302518064662558\n",
            "\n",
            "10x10 Random Matrix:\n",
            "[[0.48879311 0.89423741 0.41707906 0.23419576 0.0176143  0.07876176\n",
            "  0.20514934 0.68195511 0.78302993 0.09425571]\n",
            " [0.36201303 0.06225727 0.8470835  0.12699207 0.73318993 0.80566954\n",
            "  0.92514286 0.34682429 0.51754388 0.94453013]\n",
            " [0.73711637 0.22371987 0.08608027 0.38253269 0.77815145 0.57266825\n",
            "  0.58583513 0.85987675 0.3116279  0.31112321]\n",
            " [0.2658533  0.07569989 0.8901929  0.78096469 0.45391798 0.2612533\n",
            "  0.889522   0.59697196 0.4292738  0.41391326]\n",
            " [0.54213932 0.55969297 0.50204027 0.83155369 0.65620913 0.76555168\n",
            "  0.66332365 0.00343828 0.37473531 0.75017996]\n",
            " [0.30433276 0.3097278  0.46125114 0.77140266 0.52477797 0.90343718\n",
            "  0.65257957 0.3808796  0.13091581 0.05298598]\n",
            " [0.68733498 0.50636419 0.46405183 0.26542914 0.75944863 0.23451156\n",
            "  0.68549056 0.19293054 0.83853929 0.86576403]\n",
            " [0.64581286 0.42051427 0.10047201 0.36744057 0.42689809 0.37781405\n",
            "  0.18919408 0.2302375  0.34906492 0.66885826]\n",
            " [0.42625994 0.9332246  0.48235025 0.36443195 0.31106449 0.54659524\n",
            "  0.7231445  0.20987911 0.62672642 0.60859269]\n",
            " [0.1266483  0.52266137 0.71821831 0.87285001 0.22657351 0.19963216\n",
            "  0.51641043 0.38837909 0.93499655 0.04142021]]\n",
            "Minimum Value: 0.003438280548534678\n",
            "Maximum Value: 0.9445301345563957\n",
            "\n",
            "Zero Array with 5th element as 1:\n",
            "[0. 0. 0. 0. 1. 0. 0. 0. 0. 0.]\n",
            "\n",
            "Reversed Array:\n",
            "[0 4 0 0 2 1]\n",
            "\n",
            "2D Array with border 1 and inside 0:\n",
            "[[1. 1. 1. 1. 1.]\n",
            " [1. 0. 0. 0. 1.]\n",
            " [1. 0. 0. 0. 1.]\n",
            " [1. 0. 0. 0. 1.]\n",
            " [1. 1. 1. 1. 1.]]\n",
            "\n",
            "8x8 Checkerboard Pattern:\n",
            "[[0 1 0 1 0 1 0 1]\n",
            " [1 0 1 0 1 0 1 0]\n",
            " [0 1 0 1 0 1 0 1]\n",
            " [1 0 1 0 1 0 1 0]\n",
            " [0 1 0 1 0 1 0 1]\n",
            " [1 0 1 0 1 0 1 0]\n",
            " [0 1 0 1 0 1 0 1]\n",
            " [1 0 1 0 1 0 1 0]]\n"
          ]
        }
      ]
    },
    {
      "cell_type": "markdown",
      "source": [
        " Problem- 3: Array Operations:"
      ],
      "metadata": {
        "id": "xFdMwP5s4fsD"
      }
    },
    {
      "cell_type": "code",
      "source": [
        "x = np.array([[1, 2], [3, 5]])\n",
        "y = np.array([[5, 6], [7, 8]])\n",
        "v = np.array([9, 10])\n",
        "w = np.array([11, 12])\n",
        "\n",
        "# 1. Add the two arrays\n",
        "add_xy = x + y\n",
        "print(\"\\nAddition of x and y:\")\n",
        "print(add_xy)\n",
        "\n",
        "# 2. Subtract the two arrays\n",
        "sub_xy = x - y\n",
        "print(\"\\nSubtraction of x and y:\")\n",
        "print(sub_xy)\n",
        "\n",
        "# 3. Multiply the array with an integer\n",
        "mult_x = x * 3\n",
        "print(\"\\nMultiplication of x with 3:\")\n",
        "print(mult_x)\n",
        "\n",
        "# 4. Find the square of each element of the array\n",
        "square_x = x ** 2\n",
        "print(\"\\nSquare of each element in x:\")\n",
        "print(square_x)\n",
        "\n",
        "# 5. Find the dot product\n",
        "dot_vw = np.dot(v, w)\n",
        "dot_xv = np.dot(x, v)\n",
        "dot_xy = np.dot(x, y)\n",
        "print(\"\\nDot product of v and w:\", dot_vw)\n",
        "print(\"Dot product of x and v:\")\n",
        "print(dot_xv)\n",
        "print(\"Dot product of x and y:\")\n",
        "print(dot_xy)\n",
        "\n",
        "# 6. Concatenate x and y along rows, v and w along columns\n",
        "concat_xy = np.concatenate((x, y), axis=0)\n",
        "concat_vw = np.vstack((v, w))\n",
        "print(\"\\nConcatenation of x and y along rows:\")\n",
        "print(concat_xy)\n",
        "print(\"\\nConcatenation of v and w along columns:\")\n",
        "print(concat_vw)\n",
        "\n",
        "# 7. Concatenate x and v\n",
        "try:\n",
        "    concat_xv = np.concatenate((x, v), axis=0)\n",
        "    print(\"\\nConcatenation of x and v:\")\n",
        "    print(concat_xv)\n",
        "except ValueError as e:\n",
        "    print(\"\\nError in concatenating x and v:\", e)\n",
        "    print(\"Explanation: x is a 2x2 matrix while v is a 1D array. The dimensions do not match for concatenation along any axis.\")\n",
        "\n",
        "    v_reshaped = v.reshape(1, -1)  # Reshape v to a 2D array of shape (1,2)\n",
        "concat_xv_fixed = np.concatenate((x, v_reshaped), axis=0)\n",
        "print(\"\\nConcatenation of x and v after reshaping v:\")\n",
        "print(concat_xv_fixed)\n",
        "\n"
      ],
      "metadata": {
        "colab": {
          "base_uri": "https://localhost:8080/"
        },
        "id": "-X4FJGkY4gXI",
        "outputId": "55c955e2-7d6d-44b6-dfb3-768571e98fd2"
      },
      "execution_count": 24,
      "outputs": [
        {
          "output_type": "stream",
          "name": "stdout",
          "text": [
            "\n",
            "Addition of x and y:\n",
            "[[ 6  8]\n",
            " [10 13]]\n",
            "\n",
            "Subtraction of x and y:\n",
            "[[-4 -4]\n",
            " [-4 -3]]\n",
            "\n",
            "Multiplication of x with 3:\n",
            "[[ 3  6]\n",
            " [ 9 15]]\n",
            "\n",
            "Square of each element in x:\n",
            "[[ 1  4]\n",
            " [ 9 25]]\n",
            "\n",
            "Dot product of v and w: 219\n",
            "Dot product of x and v:\n",
            "[29 77]\n",
            "Dot product of x and y:\n",
            "[[19 22]\n",
            " [50 58]]\n",
            "\n",
            "Concatenation of x and y along rows:\n",
            "[[1 2]\n",
            " [3 5]\n",
            " [5 6]\n",
            " [7 8]]\n",
            "\n",
            "Concatenation of v and w along columns:\n",
            "[[ 9 10]\n",
            " [11 12]]\n",
            "\n",
            "Error in concatenating x and v: all the input arrays must have same number of dimensions, but the array at index 0 has 2 dimension(s) and the array at index 1 has 1 dimension(s)\n",
            "Explanation: x is a 2x2 matrix while v is a 1D array. The dimensions do not match for concatenation along any axis.\n",
            "\n",
            "Concatenation of x and v after reshaping v:\n",
            "[[ 1  2]\n",
            " [ 3  5]\n",
            " [ 9 10]]\n"
          ]
        }
      ]
    },
    {
      "cell_type": "markdown",
      "source": [
        " Problem- 4: Matrix Operations:"
      ],
      "metadata": {
        "id": "nMEVYkba5N_e"
      }
    },
    {
      "cell_type": "code",
      "source": [
        "import numpy as np\n",
        "\n",
        "# Define matrices A and B\n",
        "A = np.array([[3, 4], [7, 8]])\n",
        "B = np.array([[5, 3], [2, 1]])\n",
        "\n",
        "# 1. Prove A * A^-1 = I\n",
        "A_inv = np.linalg.inv(A)\n",
        "identity_matrix = np.dot(A, A_inv)\n",
        "print(\"A * A^-1:\")\n",
        "print(identity_matrix)\n",
        "\n",
        "# 2. Check if AB == BA\n",
        "AB = np.dot(A, B)\n",
        "BA = np.dot(B, A)\n",
        "print(\"AB:\")\n",
        "print(AB)\n",
        "print(\"BA:\")\n",
        "print(BA)\n",
        "print(\"Is AB equal to BA?:\", np.array_equal(AB, BA))\n",
        "\n",
        "# 3. Prove (AB)^T = B^T A^T\n",
        "AB_T = np.transpose(AB)\n",
        "BT_AT = np.dot(np.transpose(B), np.transpose(A))\n",
        "print(\"(AB)^T:\")\n",
        "print(AB_T)\n",
        "print(\"B^T * A^T:\")\n",
        "print(BT_AT)\n",
        "print(\"Is (AB)^T equal to B^T A^T?:\", np.array_equal(AB_T, BT_AT))\n",
        "\n",
        "# Solve the system of linear equations using inverse method\n",
        "A_system = np.array([[2, -3, 1], [1, -1, 2], [3, 1, -1]])\n",
        "B_system = np.array([-1, -3, 9])\n",
        "\n",
        "# Compute solution X = A^-1 * B\n",
        "A_inv_system = np.linalg.inv(A_system)\n",
        "X = np.dot(A_inv_system, B_system)\n",
        "print(\"Solution for x, y, z:\")\n",
        "print(X)"
      ],
      "metadata": {
        "colab": {
          "base_uri": "https://localhost:8080/"
        },
        "id": "ETDf94TI5Oy6",
        "outputId": "4b6abc0a-e35d-4bea-fc8d-110f6865df79"
      },
      "execution_count": 25,
      "outputs": [
        {
          "output_type": "stream",
          "name": "stdout",
          "text": [
            "A * A^-1:\n",
            "[[1.00000000e+00 0.00000000e+00]\n",
            " [1.77635684e-15 1.00000000e+00]]\n",
            "AB:\n",
            "[[23 13]\n",
            " [51 29]]\n",
            "BA:\n",
            "[[36 44]\n",
            " [13 16]]\n",
            "Is AB equal to BA?: False\n",
            "(AB)^T:\n",
            "[[23 51]\n",
            " [13 29]]\n",
            "B^T * A^T:\n",
            "[[23 51]\n",
            " [13 29]]\n",
            "Is (AB)^T equal to B^T A^T?: True\n",
            "Solution for x, y, z:\n",
            "[ 2.  1. -2.]\n"
          ]
        }
      ]
    },
    {
      "cell_type": "markdown",
      "source": [
        " 10.2 Experiment: How Fast is Numpy?"
      ],
      "metadata": {
        "id": "S3YVA_8Q5_W8"
      }
    },
    {
      "cell_type": "code",
      "source": [
        "import numpy as np\n",
        "import time\n",
        "\n",
        "# Define sizes\n",
        "size = 1_000_000\n",
        "matrix_size = 1000\n",
        "\n",
        "# Generate data for lists and NumPy arrays\n",
        "list1 = [i for i in range(size)]\n",
        "list2 = [i for i in range(size)]\n",
        "array1 = np.arange(size)\n",
        "array2 = np.arange(size)\n",
        "\n",
        "# Element-wise Addition\n",
        "start = time.time()\n",
        "list_add = [list1[i] + list2[i] for i in range(size)]\n",
        "end = time.time()\n",
        "print(f\"Python List Addition Time: {end - start:.5f} seconds\")\n",
        "\n",
        "start = time.time()\n",
        "numpy_add = array1 + array2\n",
        "end = time.time()\n",
        "print(f\"NumPy Array Addition Time: {end - start:.5f} seconds\")\n",
        "\n",
        "# Element-wise Multiplication\n",
        "start = time.time()\n",
        "list_mul = [list1[i] * list2[i] for i in range(size)]\n",
        "end = time.time()\n",
        "print(f\"Python List Multiplication Time: {end - start:.5f} seconds\")\n",
        "\n",
        "start = time.time()\n",
        "numpy_mul = array1 * array2\n",
        "end = time.time()\n",
        "print(f\"NumPy Array Multiplication Time: {end - start:.5f} seconds\")\n",
        "\n",
        "# Dot Product\n",
        "start = time.time()\n",
        "dot_product_list = sum(list1[i] * list2[i] for i in range(size))\n",
        "end = time.time()\n",
        "print(f\"Python List Dot Product Time: {end - start:.5f} seconds\")\n",
        "\n",
        "start = time.time()\n",
        "dot_product_numpy = np.dot(array1, array2)\n",
        "end = time.time()\n",
        "print(f\"NumPy Array Dot Product Time: {end - start:.5f} seconds\")\n",
        "\n",
        "# Matrix Multiplication\n",
        "list_matrix1 = [[i for i in range(matrix_size)] for _ in range(matrix_size)]\n",
        "list_matrix2 = [[i for i in range(matrix_size)] for _ in range(matrix_size)]\n",
        "np_matrix1 = np.array(list_matrix1)\n",
        "np_matrix2 = np.array(list_matrix2)\n",
        "\n",
        "start = time.time()\n",
        "result_matrix_list = [[sum(a * b for a, b in zip(row, col)) for col in zip(*list_matrix2)] for row in list_matrix1]\n",
        "end = time.time()\n",
        "print(f\"Python List Matrix Multiplication Time: {end - start:.5f} seconds\")\n",
        "\n",
        "start = time.time()\n",
        "result_matrix_numpy = np.matmul(np_matrix1, np_matrix2)\n",
        "end = time.time()\n",
        "print(f\"NumPy Matrix Multiplication Time: {end - start:.5f} seconds\")\n"
      ],
      "metadata": {
        "colab": {
          "base_uri": "https://localhost:8080/"
        },
        "id": "0LX0rCXK6AwI",
        "outputId": "8affdcea-9e16-4e4a-c421-2c0ddc02ff40"
      },
      "execution_count": 26,
      "outputs": [
        {
          "output_type": "stream",
          "name": "stdout",
          "text": [
            "Python List Addition Time: 0.18696 seconds\n",
            "NumPy Array Addition Time: 0.00822 seconds\n",
            "Python List Multiplication Time: 0.19813 seconds\n",
            "NumPy Array Multiplication Time: 0.01558 seconds\n",
            "Python List Dot Product Time: 0.06203 seconds\n",
            "NumPy Array Dot Product Time: 0.00115 seconds\n",
            "Python List Matrix Multiplication Time: 108.12782 seconds\n",
            "NumPy Matrix Multiplication Time: 0.97885 seconds\n"
          ]
        }
      ]
    }
  ]
}